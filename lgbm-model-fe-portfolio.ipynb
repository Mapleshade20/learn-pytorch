{
 "cells": [
  {
   "cell_type": "markdown",
   "id": "a00188c0",
   "metadata": {
    "papermill": {
     "duration": 0.015891,
     "end_time": "2022-04-11T08:11:55.778556",
     "exception": false,
     "start_time": "2022-04-11T08:11:55.762665",
     "status": "completed"
    },
    "tags": []
   },
   "source": [
    "I plan to update the model in a timely manner. "
   ]
  },
  {
   "cell_type": "markdown",
   "id": "31d35b9e",
   "metadata": {
    "papermill": {
     "duration": 0.01433,
     "end_time": "2022-04-11T08:11:55.808233",
     "exception": false,
     "start_time": "2022-04-11T08:11:55.793903",
     "status": "completed"
    },
    "tags": []
   },
   "source": [
    "* This is probably the maximum in LB, as some are already in LB with a score of 5.434. \n",
    "* Therefore, from here on, it is necessary to suppress overfitting and increase the Private Score, rather than aiming at the value of LB.\n",
    "https://www.kaggle.com/competitions/jpx-tokyo-stock-exchange-prediction/discussion/318015"
   ]
  },
  {
   "cell_type": "markdown",
   "id": "576ca3fb",
   "metadata": {
    "papermill": {
     "duration": 0.014376,
     "end_time": "2022-04-11T08:11:55.837195",
     "exception": false,
     "start_time": "2022-04-11T08:11:55.822819",
     "status": "completed"
    },
    "tags": []
   },
   "source": [
    "**I had the above idea, but I realized in the discussion that the idea of portfolio is important, so I corrected it.**\n",
    "https://www.kaggle.com/competitions/jpx-tokyo-stock-exchange-prediction/discussion/318055"
   ]
  },
  {
   "cell_type": "markdown",
   "id": "ff160ebc",
   "metadata": {
    "papermill": {
     "duration": 0.014615,
     "end_time": "2022-04-11T08:11:55.866396",
     "exception": false,
     "start_time": "2022-04-11T08:11:55.851781",
     "status": "completed"
    },
    "tags": []
   },
   "source": [
    "**Rank after considering the target and risk with reference to the following.Please comment if you don't understand**\n",
    "https://www.kaggle.com/code/tensorchoko/jpx-eda-model-jp-en"
   ]
  },
  {
   "cell_type": "markdown",
   "id": "dd6b0112",
   "metadata": {
    "papermill": {
     "duration": 0.014371,
     "end_time": "2022-04-11T08:11:55.895758",
     "exception": false,
     "start_time": "2022-04-11T08:11:55.881387",
     "status": "completed"
    },
    "tags": []
   },
   "source": [
    "# **if it is useful for you, please vote!**"
   ]
  },
  {
   "cell_type": "code",
   "execution_count": 1,
   "id": "85c3ac07",
   "metadata": {
    "execution": {
     "iopub.execute_input": "2022-04-11T08:11:55.931092Z",
     "iopub.status.busy": "2022-04-11T08:11:55.929325Z",
     "iopub.status.idle": "2022-04-11T08:11:58.786779Z",
     "shell.execute_reply": "2022-04-11T08:11:58.786033Z",
     "shell.execute_reply.started": "2022-04-11T06:39:43.857303Z"
    },
    "papermill": {
     "duration": 2.876493,
     "end_time": "2022-04-11T08:11:58.786942",
     "exception": false,
     "start_time": "2022-04-11T08:11:55.910449",
     "status": "completed"
    },
    "tags": []
   },
   "outputs": [
    {
     "data": {
      "text/html": [
       "<style type='text/css'>\n",
       ".datatable table.frame { margin-bottom: 0; }\n",
       ".datatable table.frame thead { border-bottom: none; }\n",
       ".datatable table.frame tr.coltypes td {  color: #FFFFFF;  line-height: 6px;  padding: 0 0.5em;}\n",
       ".datatable .bool    { background: #DDDD99; }\n",
       ".datatable .object  { background: #565656; }\n",
       ".datatable .int     { background: #5D9E5D; }\n",
       ".datatable .float   { background: #4040CC; }\n",
       ".datatable .str     { background: #CC4040; }\n",
       ".datatable .time    { background: #40CC40; }\n",
       ".datatable .row_index {  background: var(--jp-border-color3);  border-right: 1px solid var(--jp-border-color0);  color: var(--jp-ui-font-color3);  font-size: 9px;}\n",
       ".datatable .frame tbody td { text-align: left; }\n",
       ".datatable .frame tr.coltypes .row_index {  background: var(--jp-border-color0);}\n",
       ".datatable th:nth-child(2) { padding-left: 12px; }\n",
       ".datatable .hellipsis {  color: var(--jp-cell-editor-border-color);}\n",
       ".datatable .vellipsis {  background: var(--jp-layout-color0);  color: var(--jp-cell-editor-border-color);}\n",
       ".datatable .na {  color: var(--jp-cell-editor-border-color);  font-size: 80%;}\n",
       ".datatable .sp {  opacity: 0.25;}\n",
       ".datatable .footer { font-size: 9px; }\n",
       ".datatable .frame_dimensions {  background: var(--jp-border-color3);  border-top: 1px solid var(--jp-border-color0);  color: var(--jp-ui-font-color3);  display: inline-block;  opacity: 0.6;  padding: 1px 10px 1px 5px;}\n",
       "</style>\n"
      ],
      "text/plain": [
       "<IPython.core.display.HTML object>"
      ]
     },
     "metadata": {},
     "output_type": "display_data"
    }
   ],
   "source": [
    "import numpy as np\n",
    "import pandas as pd\n",
    "import jpx_tokyo_market_prediction\n",
    "from lightgbm import LGBMRegressor\n",
    "import optuna.integration.lightgbm as lgb\n",
    "import matplotlib.pyplot as plt\n",
    "import warnings\n",
    "warnings.filterwarnings(\"ignore\")"
   ]
  },
  {
   "cell_type": "code",
   "execution_count": 2,
   "id": "ee82da87",
   "metadata": {
    "execution": {
     "iopub.execute_input": "2022-04-11T08:11:58.824338Z",
     "iopub.status.busy": "2022-04-11T08:11:58.823481Z",
     "iopub.status.idle": "2022-04-11T08:11:59.161807Z",
     "shell.execute_reply": "2022-04-11T08:11:59.161216Z",
     "shell.execute_reply.started": "2022-04-11T06:39:47.038922Z"
    },
    "papermill": {
     "duration": 0.358862,
     "end_time": "2022-04-11T08:11:59.161942",
     "exception": false,
     "start_time": "2022-04-11T08:11:58.803080",
     "status": "completed"
    },
    "tags": []
   },
   "outputs": [],
   "source": [
    "prices = pd.read_csv(\"../input/jpx-tokyo-stock-exchange-prediction/supplemental_files/stock_prices.csv\")"
   ]
  },
  {
   "cell_type": "code",
   "execution_count": 3,
   "id": "dfe21836",
   "metadata": {
    "execution": {
     "iopub.execute_input": "2022-04-11T08:11:59.201726Z",
     "iopub.status.busy": "2022-04-11T08:11:59.201032Z",
     "iopub.status.idle": "2022-04-11T08:11:59.206324Z",
     "shell.execute_reply": "2022-04-11T08:11:59.206823Z",
     "shell.execute_reply.started": "2022-04-11T06:39:47.411992Z"
    },
    "papermill": {
     "duration": 0.029266,
     "end_time": "2022-04-11T08:11:59.206989",
     "exception": false,
     "start_time": "2022-04-11T08:11:59.177723",
     "status": "completed"
    },
    "tags": []
   },
   "outputs": [
    {
     "data": {
      "text/plain": [
       "0         2021-12-06\n",
       "1         2021-12-06\n",
       "2         2021-12-06\n",
       "3         2021-12-06\n",
       "4         2021-12-06\n",
       "             ...    \n",
       "111995    2022-02-28\n",
       "111996    2022-02-28\n",
       "111997    2022-02-28\n",
       "111998    2022-02-28\n",
       "111999    2022-02-28\n",
       "Name: Date, Length: 112000, dtype: object"
      ]
     },
     "execution_count": 3,
     "metadata": {},
     "output_type": "execute_result"
    }
   ],
   "source": [
    "prices[\"Date\"]"
   ]
  },
  {
   "cell_type": "code",
   "execution_count": 4,
   "id": "db031569",
   "metadata": {
    "execution": {
     "iopub.execute_input": "2022-04-11T08:11:59.260106Z",
     "iopub.status.busy": "2022-04-11T08:11:59.242081Z",
     "iopub.status.idle": "2022-04-11T08:11:59.279536Z",
     "shell.execute_reply": "2022-04-11T08:11:59.278876Z",
     "shell.execute_reply.started": "2022-04-11T06:39:47.429963Z"
    },
    "papermill": {
     "duration": 0.056443,
     "end_time": "2022-04-11T08:11:59.279686",
     "exception": false,
     "start_time": "2022-04-11T08:11:59.223243",
     "status": "completed"
    },
    "tags": []
   },
   "outputs": [],
   "source": [
    "NDAYS = 50\n",
    "lastdays = prices[prices[\"Date\"]>=prices.Date.iat[-2000*NDAYS]].reset_index(drop=True)"
   ]
  },
  {
   "cell_type": "code",
   "execution_count": 5,
   "id": "cfea5e7e",
   "metadata": {
    "execution": {
     "iopub.execute_input": "2022-04-11T08:11:59.319410Z",
     "iopub.status.busy": "2022-04-11T08:11:59.318681Z",
     "iopub.status.idle": "2022-04-11T08:12:12.427886Z",
     "shell.execute_reply": "2022-04-11T08:12:12.427297Z",
     "shell.execute_reply.started": "2022-04-11T06:39:47.478105Z"
    },
    "papermill": {
     "duration": 13.132039,
     "end_time": "2022-04-11T08:12:12.428046",
     "exception": false,
     "start_time": "2022-04-11T08:11:59.296007",
     "status": "completed"
    },
    "tags": []
   },
   "outputs": [],
   "source": [
    "lastdays = pd.DataFrame(prices.groupby(\"SecuritiesCode\").Target.mean())\n",
    "def get_avg(_id_):\n",
    "    return lastdays.loc[_id_]\n",
    "prices[\"Avg\"] = prices[\"SecuritiesCode\"].apply(get_avg)"
   ]
  },
  {
   "cell_type": "code",
   "execution_count": 6,
   "id": "caf4854f",
   "metadata": {
    "execution": {
     "iopub.execute_input": "2022-04-11T08:12:12.464026Z",
     "iopub.status.busy": "2022-04-11T08:12:12.463062Z",
     "iopub.status.idle": "2022-04-11T08:12:13.337825Z",
     "shell.execute_reply": "2022-04-11T08:12:13.337196Z",
     "shell.execute_reply.started": "2022-04-11T06:40:00.836431Z"
    },
    "papermill": {
     "duration": 0.893783,
     "end_time": "2022-04-11T08:12:13.337962",
     "exception": false,
     "start_time": "2022-04-11T08:12:12.444179",
     "status": "completed"
    },
    "tags": []
   },
   "outputs": [],
   "source": [
    "prices.Date = pd.to_datetime(prices.Date)\n",
    "prices['Date'] = prices['Date'].dt.strftime(\"%Y%m%d\").astype(int)\n",
    "X=prices[[\"Date\",\"SecuritiesCode\",\"Avg\",\"High\",\"Open\",\"Close\",\"Low\",\"Volume\"]]\n",
    "y=prices[[\"Target\"]]\n",
    "codes = X.SecuritiesCode.unique()"
   ]
  },
  {
   "cell_type": "code",
   "execution_count": 7,
   "id": "1a665a07",
   "metadata": {
    "execution": {
     "iopub.execute_input": "2022-04-11T08:12:13.377381Z",
     "iopub.status.busy": "2022-04-11T08:12:13.376458Z",
     "iopub.status.idle": "2022-04-11T08:12:13.379511Z",
     "shell.execute_reply": "2022-04-11T08:12:13.378891Z",
     "shell.execute_reply.started": "2022-04-11T06:40:01.710736Z"
    },
    "papermill": {
     "duration": 0.0257,
     "end_time": "2022-04-11T08:12:13.379648",
     "exception": false,
     "start_time": "2022-04-11T08:12:13.353948",
     "status": "completed"
    },
    "tags": []
   },
   "outputs": [],
   "source": [
    "import optuna\n",
    "\n",
    "def objectives(trial):\n",
    "    # optunaでのハイパーパラメータサーチ範囲の設定\n",
    "    params = {\n",
    "            'num_leaves': trial.suggest_int('num_leaves', 300, 4000),\n",
    "            'n_estimators': trial.suggest_int('n_estimators', 10, 1000),\n",
    "            'max_bin': trial.suggest_int('max_bin', 2, 100),\n",
    "            'learning_rate': trial.suggest_uniform('learning_rate',0, 1),\n",
    "    }\n",
    "\n",
    "    model = LGBMRegressor(**params)\n",
    "    model.fit(X,y)\n",
    "    score = model.score(X,y)\n",
    "    return score"
   ]
  },
  {
   "cell_type": "code",
   "execution_count": 8,
   "id": "5045ab2d",
   "metadata": {
    "execution": {
     "iopub.execute_input": "2022-04-11T08:12:13.420404Z",
     "iopub.status.busy": "2022-04-11T08:12:13.419369Z",
     "iopub.status.idle": "2022-04-11T08:28:23.823044Z",
     "shell.execute_reply": "2022-04-11T08:28:23.823698Z",
     "shell.execute_reply.started": "2022-04-11T06:40:01.720971Z"
    },
    "papermill": {
     "duration": 970.428115,
     "end_time": "2022-04-11T08:28:23.823886",
     "exception": false,
     "start_time": "2022-04-11T08:12:13.395771",
     "status": "completed"
    },
    "tags": []
   },
   "outputs": [
    {
     "name": "stderr",
     "output_type": "stream",
     "text": [
      "\u001b[32m[I 2022-04-11 08:12:13,416]\u001b[0m A new study created in memory with name: no-name-b83ef384-632b-4b3b-ab98-61bb229fad99\u001b[0m\n",
      "\u001b[32m[I 2022-04-11 08:13:32,046]\u001b[0m Trial 0 finished with value: 0.9999316269550744 and parameters: {'num_leaves': 2331, 'n_estimators': 718, 'max_bin': 61, 'learning_rate': 0.5448831829968969}. Best is trial 0 with value: 0.9999316269550744.\u001b[0m\n",
      "\u001b[32m[I 2022-04-11 08:14:25,944]\u001b[0m Trial 1 finished with value: 0.98344274050321 and parameters: {'num_leaves': 1867, 'n_estimators': 650, 'max_bin': 45, 'learning_rate': 0.8917730007820798}. Best is trial 0 with value: 0.9999316269550744.\u001b[0m\n",
      "\u001b[32m[I 2022-04-11 08:15:39,790]\u001b[0m Trial 2 finished with value: 0.9999281022959217 and parameters: {'num_leaves': 3866, 'n_estimators': 389, 'max_bin': 80, 'learning_rate': 0.5288949197529045}. Best is trial 0 with value: 0.9999316269550744.\u001b[0m\n",
      "\u001b[32m[I 2022-04-11 08:17:20,734]\u001b[0m Trial 3 finished with value: 0.24909089862614076 and parameters: {'num_leaves': 2402, 'n_estimators': 927, 'max_bin': 9, 'learning_rate': 0.08712929970154071}. Best is trial 0 with value: 0.9999316269550744.\u001b[0m\n",
      "\u001b[32m[I 2022-04-11 08:17:34,799]\u001b[0m Trial 4 finished with value: 0.9973948237099283 and parameters: {'num_leaves': 374, 'n_estimators': 835, 'max_bin': 79, 'learning_rate': 0.8700121482468192}. Best is trial 0 with value: 0.9999316269550744.\u001b[0m\n",
      "\u001b[32m[I 2022-04-11 08:20:15,712]\u001b[0m Trial 5 finished with value: 0.9857486568672743 and parameters: {'num_leaves': 3921, 'n_estimators': 801, 'max_bin': 47, 'learning_rate': 0.7805291762864555}. Best is trial 0 with value: 0.9999316269550744.\u001b[0m\n",
      "\u001b[32m[I 2022-04-11 08:20:35,349]\u001b[0m Trial 6 finished with value: 0.655501252443204 and parameters: {'num_leaves': 737, 'n_estimators': 644, 'max_bin': 16, 'learning_rate': 0.9446689170495839}. Best is trial 0 with value: 0.9999316269550744.\u001b[0m\n",
      "\u001b[32m[I 2022-04-11 08:21:14,292]\u001b[0m Trial 7 finished with value: 0.912630031211624 and parameters: {'num_leaves': 2231, 'n_estimators': 420, 'max_bin': 28, 'learning_rate': 0.7742336894342167}. Best is trial 0 with value: 0.9999316269550744.\u001b[0m\n",
      "\u001b[32m[I 2022-04-11 08:21:17,507]\u001b[0m Trial 8 finished with value: 0.008879958400304422 and parameters: {'num_leaves': 1988, 'n_estimators': 573, 'max_bin': 3, 'learning_rate': 0.6176354970758771}. Best is trial 0 with value: 0.9999316269550744.\u001b[0m\n",
      "\u001b[32m[I 2022-04-11 08:22:37,516]\u001b[0m Trial 9 finished with value: 0.9999940240931783 and parameters: {'num_leaves': 2565, 'n_estimators': 621, 'max_bin': 95, 'learning_rate': 0.6818202991034834}. Best is trial 9 with value: 0.9999940240931783.\u001b[0m\n",
      "\u001b[32m[I 2022-04-11 08:23:10,870]\u001b[0m Trial 10 finished with value: 0.8829800973476817 and parameters: {'num_leaves': 1630, 'n_estimators': 443, 'max_bin': 71, 'learning_rate': 0.06022547162926983}. Best is trial 9 with value: 0.9999940240931783.\u001b[0m\n",
      "\u001b[32m[I 2022-04-11 08:24:31,962]\u001b[0m Trial 11 finished with value: 0.7952158438134078 and parameters: {'num_leaves': 2767, 'n_estimators': 674, 'max_bin': 22, 'learning_rate': 0.1289262976548533}. Best is trial 9 with value: 0.9999940240931783.\u001b[0m\n",
      "\u001b[32m[I 2022-04-11 08:24:55,317]\u001b[0m Trial 12 finished with value: 0.9951048168725156 and parameters: {'num_leaves': 1467, 'n_estimators': 370, 'max_bin': 58, 'learning_rate': 0.43860151346232035}. Best is trial 9 with value: 0.9999940240931783.\u001b[0m\n",
      "\u001b[32m[I 2022-04-11 08:25:13,005]\u001b[0m Trial 13 finished with value: 0.6622312397252529 and parameters: {'num_leaves': 3957, 'n_estimators': 111, 'max_bin': 22, 'learning_rate': 0.16130951788499626}. Best is trial 9 with value: 0.9999940240931783.\u001b[0m\n",
      "\u001b[32m[I 2022-04-11 08:25:44,053]\u001b[0m Trial 14 finished with value: 0.970112387561215 and parameters: {'num_leaves': 2717, 'n_estimators': 261, 'max_bin': 48, 'learning_rate': 0.24442559200160274}. Best is trial 9 with value: 0.9999940240931783.\u001b[0m\n",
      "\u001b[32m[I 2022-04-11 08:25:47,904]\u001b[0m Trial 15 finished with value: 0.7116148164352735 and parameters: {'num_leaves': 888, 'n_estimators': 119, 'max_bin': 66, 'learning_rate': 0.1381829513486138}. Best is trial 9 with value: 0.9999940240931783.\u001b[0m\n",
      "\u001b[32m[I 2022-04-11 08:26:06,315]\u001b[0m Trial 16 finished with value: 0.8664516213203166 and parameters: {'num_leaves': 1027, 'n_estimators': 375, 'max_bin': 83, 'learning_rate': 0.09710127579306127}. Best is trial 9 with value: 0.9999940240931783.\u001b[0m\n",
      "\u001b[32m[I 2022-04-11 08:26:21,729]\u001b[0m Trial 17 finished with value: 0.9900063398062294 and parameters: {'num_leaves': 3401, 'n_estimators': 105, 'max_bin': 98, 'learning_rate': 0.4686512016477016}. Best is trial 9 with value: 0.9999940240931783.\u001b[0m\n",
      "\u001b[32m[I 2022-04-11 08:28:17,027]\u001b[0m Trial 18 finished with value: 0.957019989724967 and parameters: {'num_leaves': 3914, 'n_estimators': 609, 'max_bin': 75, 'learning_rate': 0.039187792254320675}. Best is trial 9 with value: 0.9999940240931783.\u001b[0m\n",
      "\u001b[32m[I 2022-04-11 08:28:23,813]\u001b[0m Trial 19 finished with value: 0.6049298832012928 and parameters: {'num_leaves': 1346, 'n_estimators': 129, 'max_bin': 31, 'learning_rate': 0.11872771895424405}. Best is trial 9 with value: 0.9999940240931783.\u001b[0m\n"
     ]
    }
   ],
   "source": [
    "opt = optuna.create_study(direction='maximize',sampler=optuna.samplers.RandomSampler(seed=0))\n",
    "opt.optimize(objectives, n_trials=20)\n",
    "\n",
    "# 最適パラメータ取得\n",
    "trial = opt.best_trial\n",
    "params_best = dict(trial.params.items())\n",
    "params_best['random_seed'] = 0\n",
    "    \n",
    "# 最適パラメータで学習/予測    \n",
    "model_o = LGBMRegressor(**params_best)#"
   ]
  },
  {
   "cell_type": "code",
   "execution_count": 9,
   "id": "ba4baf73",
   "metadata": {
    "execution": {
     "iopub.execute_input": "2022-04-11T08:28:23.874995Z",
     "iopub.status.busy": "2022-04-11T08:28:23.874032Z",
     "iopub.status.idle": "2022-04-11T08:29:25.248742Z",
     "shell.execute_reply": "2022-04-11T08:29:25.249291Z",
     "shell.execute_reply.started": "2022-04-11T06:43:16.303024Z"
    },
    "papermill": {
     "duration": 61.4021,
     "end_time": "2022-04-11T08:29:25.249465",
     "exception": false,
     "start_time": "2022-04-11T08:28:23.847365",
     "status": "completed"
    },
    "tags": []
   },
   "outputs": [
    {
     "data": {
      "text/plain": [
       "LGBMRegressor(learning_rate=0.6818202991034834, max_bin=95, n_estimators=621,\n",
       "              num_leaves=2565, random_seed=0)"
      ]
     },
     "execution_count": 9,
     "metadata": {},
     "output_type": "execute_result"
    }
   ],
   "source": [
    "model_o.fit(X,y)"
   ]
  },
  {
   "cell_type": "code",
   "execution_count": 10,
   "id": "7aeab4ba",
   "metadata": {
    "execution": {
     "iopub.execute_input": "2022-04-11T08:29:25.305977Z",
     "iopub.status.busy": "2022-04-11T08:29:25.300371Z",
     "iopub.status.idle": "2022-04-11T08:29:26.548531Z",
     "shell.execute_reply": "2022-04-11T08:29:26.549022Z",
     "shell.execute_reply.started": "2022-04-11T06:44:49.764411Z"
    },
    "papermill": {
     "duration": 1.275984,
     "end_time": "2022-04-11T08:29:26.549214",
     "exception": false,
     "start_time": "2022-04-11T08:29:25.273230",
     "status": "completed"
    },
    "tags": []
   },
   "outputs": [
    {
     "name": "stdout",
     "output_type": "stream",
     "text": [
      "This version of the API is not optimized and should not be used to estimate the runtime of your code on the hidden test set.\n"
     ]
    }
   ],
   "source": [
    "env = jpx_tokyo_market_prediction.make_env()\n",
    "iter_test = env.iter_test()\n",
    "\n",
    "for (prices, options, financials, trades, secondary_prices, sample_prediction) in iter_test:\n",
    "    ds=[prices, options, financials, trades, secondary_prices, sample_prediction]\n",
    "    sample_prediction[\"Avg\"] = sample_prediction[\"SecuritiesCode\"].apply(get_avg)\n",
    "    df = sample_prediction[[\"Date\",\"SecuritiesCode\",\"Avg\"]]\n",
    "    df[\"High\"] = prices[\"High\"]\n",
    "    df[\"Open\"] = prices[\"Open\"]\n",
    "    df[\"Close\"] = prices[\"Close\"]\n",
    "    df[\"Low\"] = prices[\"Low\"]\n",
    "    df[\"Volume\"] = prices[\"Volume\"]\n",
    "    df.Date = pd.to_datetime(df.Date)\n",
    "    sample_prediction[\"Volume\"] = df[\"Volume\"]\n",
    "    df['Date'] = df['Date'].dt.strftime(\"%Y%m%d\").astype(int)\n",
    "    sample_prediction[\"Prediction\"] = model_o.predict(df)\n",
    "    sample_prediction[\"rate\"] = sample_prediction[\"Prediction\"]/(np.log(sample_prediction[\"Volume\"]+1))\n",
    "    sample_prediction = sample_prediction.sort_values(by = \"rate\", ascending=False)\n",
    "    sample_prediction.Rank = np.arange(0,2000)\n",
    "    sample_prediction = sample_prediction.sort_values(by = \"SecuritiesCode\", ascending=True)\n",
    "    sample_prediction.drop([\"Prediction\"],axis=1)\n",
    "    submission = sample_prediction[[\"Date\",\"SecuritiesCode\",\"Rank\"]]\n",
    "    env.predict(submission)"
   ]
  },
  {
   "cell_type": "code",
   "execution_count": null,
   "id": "d43b095a",
   "metadata": {
    "papermill": {
     "duration": 0.023895,
     "end_time": "2022-04-11T08:29:26.597340",
     "exception": false,
     "start_time": "2022-04-11T08:29:26.573445",
     "status": "completed"
    },
    "tags": []
   },
   "outputs": [],
   "source": []
  }
 ],
 "metadata": {
  "kernelspec": {
   "display_name": "Python 3",
   "language": "python",
   "name": "python3"
  },
  "language_info": {
   "codemirror_mode": {
    "name": "ipython",
    "version": 3
   },
   "file_extension": ".py",
   "mimetype": "text/x-python",
   "name": "python",
   "nbconvert_exporter": "python",
   "pygments_lexer": "ipython3",
   "version": "3.7.12"
  },
  "papermill": {
   "default_parameters": {},
   "duration": 1061.126997,
   "end_time": "2022-04-11T08:29:27.434007",
   "environment_variables": {},
   "exception": null,
   "input_path": "__notebook__.ipynb",
   "output_path": "__notebook__.ipynb",
   "parameters": {},
   "start_time": "2022-04-11T08:11:46.307010",
   "version": "2.3.3"
  }
 },
 "nbformat": 4,
 "nbformat_minor": 5
}
