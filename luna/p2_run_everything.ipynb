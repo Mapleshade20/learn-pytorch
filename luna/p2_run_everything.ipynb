{
 "cells": [
  {
   "cell_type": "code",
   "execution_count": 5,
   "metadata": {},
   "outputs": [],
   "source": [
    "import datetime\n",
    "\n",
    "from util.util import importstr\n",
    "from util.logconf import logging\n",
    "log = logging.getLogger('nb')"
   ]
  },
  {
   "cell_type": "code",
   "execution_count": 6,
   "metadata": {},
   "outputs": [],
   "source": [
    "def run(app: str, *argv):\n",
    "    argv = list(argv)\n",
    "    argv.insert(0, '--num-workers=4')  # <1>\n",
    "    log.info(\"Running: {}({!r}).main()\".format(app, argv))\n",
    "    \n",
    "    app_cls = importstr(*app.rsplit('.', 1))  # <2>\n",
    "    app_cls(argv).main()\n",
    "    \n",
    "    log.info(\"Finished: {}.{!r}).main()\".format(app, argv))"
   ]
  },
  {
   "cell_type": "code",
   "execution_count": 7,
   "metadata": {},
   "outputs": [],
   "source": [
    "import os\n",
    "import shutil\n",
    "\n",
    "# clean up any old data that might be around.\n",
    "# We don't call this by default because it's destructive, \n",
    "# and would waste a lot of time if it ran when nothing \n",
    "# on the application side had changed.\n",
    "def cleanCache():\n",
    "    shutil.rmtree('G:/LUNA16/cache')\n",
    "    os.mkdir('G:/LUNA16/cache')\n",
    "\n",
    "# cleanCache()"
   ]
  },
  {
   "cell_type": "code",
   "execution_count": 8,
   "metadata": {},
   "outputs": [],
   "source": [
    "training_epochs = 20\n",
    "experiment_epochs = 10\n",
    "final_epochs = 50\n",
    "\n",
    "training_epochs = 2\n",
    "experiment_epochs = 2\n",
    "final_epochs = 5\n",
    "seg_epochs = 10"
   ]
  },
  {
   "cell_type": "markdown",
   "metadata": {},
   "source": [
    "## Chapter 11"
   ]
  },
  {
   "cell_type": "code",
   "execution_count": 9,
   "metadata": {},
   "outputs": [
    {
     "name": "stderr",
     "output_type": "stream",
     "text": [
      "2022-08-23 23:08:00,756 INFO     pid:6020 nb:004:run Running: p2ch11.prepcache.LunaPrepCacheApp(['--num-workers=4']).main()\n",
      "2022-08-23 23:08:01,059 INFO     pid:6020 p2ch11.prepcache:044:main Starting LunaPrepCacheApp, Namespace(batch_size=1024, num_workers=4)\n",
      "2022-08-23 23:08:02,967 INFO     pid:6020 luna.p2ch11.dsets:177:__init__ <luna.p2ch11.dsets.LunaDataset object at 0x0000028F2AF90100>: 384840 training samples\n",
      "2022-08-23 23:08:02,967 WARNING  pid:6020 util.util:219:enumerateWithEstimate Stuffing cache ----/376, starting\n",
      "2022-08-23 23:08:22,228 INFO     pid:6020 util.util:236:enumerateWithEstimate Stuffing cache   16/376, done at 2022-08-23 23:13:34, 0:05:23\n",
      "2022-08-23 23:09:03,415 INFO     pid:6020 util.util:236:enumerateWithEstimate Stuffing cache   64/376, done at 2022-08-23 23:13:31, 0:05:20\n",
      "2022-08-23 23:11:41,482 INFO     pid:6020 util.util:236:enumerateWithEstimate Stuffing cache  256/376, done at 2022-08-23 23:13:20, 0:05:09\n",
      "2022-08-23 23:13:17,400 WARNING  pid:6020 util.util:249:enumerateWithEstimate Stuffing cache ----/376, done at 2022-08-23 23:13:17\n",
      "2022-08-23 23:13:17,420 INFO     pid:6020 nb:009:run Finished: p2ch11.prepcache.LunaPrepCacheApp.['--num-workers=4']).main()\n"
     ]
    }
   ],
   "source": [
    "run('p2ch11.prepcache.LunaPrepCacheApp')"
   ]
  },
  {
   "cell_type": "code",
   "execution_count": 10,
   "metadata": {},
   "outputs": [
    {
     "name": "stderr",
     "output_type": "stream",
     "text": [
      "2022-08-23 23:15:16,744 INFO     pid:6020 nb:004:run Running: p2ch11.training.LunaTrainingApp(['--num-workers=4', '--epochs=2']).main()\n",
      "2022-08-23 23:15:16,974 INFO     pid:6020 p2ch11.training:080:initModel Using CUDA; 1 devices.\n",
      "2022-08-23 23:15:17,071 INFO     pid:6020 p2ch11.training:139:main Starting LunaTrainingApp, Namespace(num_workers=4, batch_size=32, epochs=2, tb_prefix='p2ch11', comment='dwlpt')\n",
      "2022-08-23 23:15:17,173 INFO     pid:6020 luna.p2ch11.dsets:177:__init__ <luna.p2ch11.dsets.LunaDataset object at 0x0000028F2C0B25B0>: 346356 training samples\n",
      "2022-08-23 23:15:17,187 INFO     pid:6020 luna.p2ch11.dsets:177:__init__ <luna.p2ch11.dsets.LunaDataset object at 0x0000028F38DE3AC0>: 38484 validation samples\n",
      "2022-08-23 23:15:17,188 INFO     pid:6020 p2ch11.training:146:main Epoch 1 of 2, 10824/1203 batches of size 32*1\n",
      "2022-08-23 23:15:18,062 WARNING  pid:6020 util.util:219:enumerateWithEstimate E1 Training ----/10824, starting\n",
      "2022-08-23 23:15:27,007 INFO     pid:6020 util.util:236:enumerateWithEstimate E1 Training   16/10824, done at 2022-08-23 23:25:24, 0:09:57\n",
      "2022-08-23 23:15:29,184 INFO     pid:6020 util.util:236:enumerateWithEstimate E1 Training   64/10824, done at 2022-08-23 23:23:59, 0:08:33\n",
      "2022-08-23 23:15:37,899 INFO     pid:6020 util.util:236:enumerateWithEstimate E1 Training  256/10824, done at 2022-08-23 23:23:42, 0:08:16\n",
      "2022-08-23 23:16:12,008 INFO     pid:6020 util.util:236:enumerateWithEstimate E1 Training 1024/10824, done at 2022-08-23 23:23:30, 0:08:04\n",
      "2022-08-23 23:18:30,809 INFO     pid:6020 util.util:236:enumerateWithEstimate E1 Training 4096/10824, done at 2022-08-23 23:23:34, 0:08:07\n",
      "2022-08-23 23:23:44,340 WARNING  pid:6020 util.util:249:enumerateWithEstimate E1 Training ----/10824, done at 2022-08-23 23:23:44\n",
      "2022-08-23 23:23:44,346 INFO     pid:6020 p2ch11.training:260:logMetrics E1 LunaTrainingApp\n",
      "2022-08-23 23:23:44,360 INFO     pid:6020 p2ch11.training:290:logMetrics E1 trn      0.0188 loss,  99.7% correct, \n",
      "2022-08-23 23:23:44,360 INFO     pid:6020 p2ch11.training:299:logMetrics E1 trn_neg  0.0025 loss, 100.0% correct (345484 of 345485)\n",
      "2022-08-23 23:23:44,361 INFO     pid:6020 p2ch11.training:310:logMetrics E1 trn_pos  6.4825 loss,   0.0% correct (0 of 871)\n",
      "2022-08-23 23:23:44,385 WARNING  pid:6020 util.util:219:enumerateWithEstimate E1 Validation  ----/1203, starting\n",
      "2022-08-23 23:23:47,292 INFO     pid:6020 util.util:236:enumerateWithEstimate E1 Validation    16/1203, done at 2022-08-23 23:24:06, 0:00:19\n",
      "2022-08-23 23:23:47,776 INFO     pid:6020 util.util:236:enumerateWithEstimate E1 Validation    64/1203, done at 2022-08-23 23:24:00, 0:00:13\n",
      "2022-08-23 23:23:49,719 INFO     pid:6020 util.util:236:enumerateWithEstimate E1 Validation   256/1203, done at 2022-08-23 23:23:59, 0:00:12\n",
      "2022-08-23 23:23:57,554 INFO     pid:6020 util.util:236:enumerateWithEstimate E1 Validation  1024/1203, done at 2022-08-23 23:23:59, 0:00:12\n",
      "2022-08-23 23:23:59,576 WARNING  pid:6020 util.util:249:enumerateWithEstimate E1 Validation  ----/1203, done at 2022-08-23 23:23:59\n",
      "2022-08-23 23:23:59,577 INFO     pid:6020 p2ch11.training:260:logMetrics E1 LunaTrainingApp\n",
      "2022-08-23 23:23:59,578 INFO     pid:6020 p2ch11.training:290:logMetrics E1 val      0.0176 loss,  99.7% correct, \n",
      "2022-08-23 23:23:59,579 INFO     pid:6020 p2ch11.training:299:logMetrics E1 val_neg  0.0025 loss, 100.0% correct (38387 of 38387)\n",
      "2022-08-23 23:23:59,580 INFO     pid:6020 p2ch11.training:310:logMetrics E1 val_pos  5.9881 loss,   0.0% correct (0 of 97)\n",
      "2022-08-23 23:23:59,583 INFO     pid:6020 p2ch11.training:146:main Epoch 2 of 2, 10824/1203 batches of size 32*1\n",
      "2022-08-23 23:23:59,585 WARNING  pid:6020 util.util:219:enumerateWithEstimate E2 Training ----/10824, starting\n",
      "2022-08-23 23:24:05,621 INFO     pid:6020 util.util:236:enumerateWithEstimate E2 Training   16/10824, done at 2022-08-23 23:36:13, 0:12:08\n",
      "2022-08-23 23:24:07,818 INFO     pid:6020 util.util:236:enumerateWithEstimate E2 Training   64/10824, done at 2022-08-23 23:33:09, 0:09:05\n",
      "2022-08-23 23:24:16,637 INFO     pid:6020 util.util:236:enumerateWithEstimate E2 Training  256/10824, done at 2022-08-23 23:32:33, 0:08:28\n",
      "2022-08-23 23:24:53,271 INFO     pid:6020 util.util:236:enumerateWithEstimate E2 Training 1024/10824, done at 2022-08-23 23:32:38, 0:08:34\n",
      "2022-08-23 23:27:07,605 INFO     pid:6020 util.util:236:enumerateWithEstimate E2 Training 4096/10824, done at 2022-08-23 23:32:08, 0:08:03\n",
      "2022-08-23 23:32:17,349 WARNING  pid:6020 util.util:249:enumerateWithEstimate E2 Training ----/10824, done at 2022-08-23 23:32:17\n",
      "2022-08-23 23:32:17,351 INFO     pid:6020 p2ch11.training:260:logMetrics E2 LunaTrainingApp\n",
      "2022-08-23 23:32:17,357 INFO     pid:6020 p2ch11.training:290:logMetrics E2 trn      0.0184 loss,  99.7% correct, \n",
      "2022-08-23 23:32:17,358 INFO     pid:6020 p2ch11.training:299:logMetrics E2 trn_neg  0.0025 loss, 100.0% correct (345485 of 345485)\n",
      "2022-08-23 23:32:17,358 INFO     pid:6020 p2ch11.training:310:logMetrics E2 trn_pos  6.3371 loss,   0.0% correct (0 of 871)\n",
      "2022-08-23 23:32:17,374 WARNING  pid:6020 util.util:219:enumerateWithEstimate E2 Validation  ----/1203, starting\n",
      "2022-08-23 23:32:20,284 INFO     pid:6020 util.util:236:enumerateWithEstimate E2 Validation    16/1203, done at 2022-08-23 23:32:46, 0:00:26\n",
      "2022-08-23 23:32:20,786 INFO     pid:6020 util.util:236:enumerateWithEstimate E2 Validation    64/1203, done at 2022-08-23 23:32:35, 0:00:15\n",
      "2022-08-23 23:32:22,735 INFO     pid:6020 util.util:236:enumerateWithEstimate E2 Validation   256/1203, done at 2022-08-23 23:32:32, 0:00:12\n",
      "2022-08-23 23:32:30,857 INFO     pid:6020 util.util:236:enumerateWithEstimate E2 Validation  1024/1203, done at 2022-08-23 23:32:32, 0:00:12\n",
      "2022-08-23 23:32:32,963 WARNING  pid:6020 util.util:249:enumerateWithEstimate E2 Validation  ----/1203, done at 2022-08-23 23:32:32\n",
      "2022-08-23 23:32:32,963 INFO     pid:6020 p2ch11.training:260:logMetrics E2 LunaTrainingApp\n",
      "2022-08-23 23:32:32,965 INFO     pid:6020 p2ch11.training:290:logMetrics E2 val      0.0182 loss,  99.7% correct, \n",
      "2022-08-23 23:32:32,965 INFO     pid:6020 p2ch11.training:299:logMetrics E2 val_neg  0.0046 loss, 100.0% correct (38387 of 38387)\n",
      "2022-08-23 23:32:32,966 INFO     pid:6020 p2ch11.training:310:logMetrics E2 val_pos  5.3811 loss,   0.0% correct (0 of 97)\n",
      "2022-08-23 23:32:32,978 INFO     pid:6020 nb:009:run Finished: p2ch11.training.LunaTrainingApp.['--num-workers=4', '--epochs=2']).main()\n"
     ]
    }
   ],
   "source": [
    "run('p2ch11.training.LunaTrainingApp', '--epochs=2')"
   ]
  },
  {
   "cell_type": "code",
   "execution_count": null,
   "metadata": {},
   "outputs": [],
   "source": [
    "run('p2ch11.training.LunaTrainingApp', f'--epochs={experiment_epochs}')"
   ]
  },
  {
   "cell_type": "markdown",
   "metadata": {},
   "source": [
    "## Chapter 12"
   ]
  },
  {
   "cell_type": "code",
   "execution_count": null,
   "metadata": {},
   "outputs": [],
   "source": [
    "run('p2ch12.prepcache.LunaPrepCacheApp')"
   ]
  },
  {
   "cell_type": "code",
   "execution_count": null,
   "metadata": {},
   "outputs": [],
   "source": [
    "run('p2ch12.training.LunaTrainingApp', '--epochs=1', 'unbalanced')"
   ]
  },
  {
   "cell_type": "code",
   "execution_count": null,
   "metadata": {},
   "outputs": [],
   "source": [
    "run('p2ch12.training.LunaTrainingApp', f'--epochs={training_epochs}', '--balanced', 'balanced')"
   ]
  },
  {
   "cell_type": "code",
   "execution_count": null,
   "metadata": {},
   "outputs": [],
   "source": [
    "run('p2ch12.training.LunaTrainingApp', f'--epochs={experiment_epochs}', '--balanced', '--augment-flip', 'flip')"
   ]
  },
  {
   "cell_type": "code",
   "execution_count": null,
   "metadata": {},
   "outputs": [],
   "source": [
    "run('p2ch12.training.LunaTrainingApp', f'--epochs={experiment_epochs}', '--balanced', '--augment-offset', 'offset')"
   ]
  },
  {
   "cell_type": "code",
   "execution_count": null,
   "metadata": {},
   "outputs": [],
   "source": [
    "run('p2ch12.training.LunaTrainingApp', f'--epochs={experiment_epochs}', '--balanced', '--augment-scale', 'scale')"
   ]
  },
  {
   "cell_type": "code",
   "execution_count": null,
   "metadata": {},
   "outputs": [],
   "source": [
    "run('p2ch12.training.LunaTrainingApp', f'--epochs={experiment_epochs}', '--balanced', '--augment-rotate', 'rotate')"
   ]
  },
  {
   "cell_type": "code",
   "execution_count": null,
   "metadata": {},
   "outputs": [],
   "source": [
    "run('p2ch12.training.LunaTrainingApp', f'--epochs={experiment_epochs}', '--balanced', '--augment-noise', 'noise')"
   ]
  },
  {
   "cell_type": "code",
   "execution_count": null,
   "metadata": {},
   "outputs": [],
   "source": [
    "run('p2ch12.training.LunaTrainingApp', f'--epochs={training_epochs}', '--balanced', '--augmented', 'fully-augmented')"
   ]
  },
  {
   "cell_type": "markdown",
   "metadata": {},
   "source": [
    "## Chapter 13"
   ]
  },
  {
   "cell_type": "code",
   "execution_count": null,
   "metadata": {},
   "outputs": [],
   "source": [
    "run('p2ch13.prepcache.LunaPrepCacheApp')"
   ]
  },
  {
   "cell_type": "code",
   "execution_count": null,
   "metadata": {},
   "outputs": [],
   "source": [
    "run('p2ch13.training.LunaTrainingApp', f'--epochs={final_epochs}', '--balanced', '--augmented', 'final-cls')"
   ]
  },
  {
   "cell_type": "code",
   "execution_count": null,
   "metadata": {
    "scrolled": true
   },
   "outputs": [],
   "source": [
    "run('p2ch13.train_seg.LunaTrainingApp', f'--epochs={seg_epochs}', '--augmented', 'final-seg')"
   ]
  },
  {
   "cell_type": "markdown",
   "metadata": {},
   "source": [
    "## Chapter 14"
   ]
  },
  {
   "cell_type": "code",
   "execution_count": null,
   "metadata": {},
   "outputs": [],
   "source": [
    "run('p2ch14.prepcache.LunaPrepCacheApp')"
   ]
  },
  {
   "cell_type": "code",
   "execution_count": null,
   "metadata": {
    "scrolled": true
   },
   "outputs": [],
   "source": [
    "run('p2ch14.training.ClassificationTrainingApp', f'--epochs=100', 'nodule-nonnodule')"
   ]
  },
  {
   "cell_type": "code",
   "execution_count": null,
   "metadata": {
    "scrolled": false
   },
   "outputs": [],
   "source": [
    "run('p2ch14.training.ClassificationTrainingApp', f'--epochs=40', '--malignant', '--dataset=MalignantLunaDataset',\n",
    "    '--finetune=''data/part2/models/cls_2020-02-06_14.16.55_final-nodule-nonnodule.best.state',\n",
    "    'finetune-head')\n"
   ]
  },
  {
   "cell_type": "code",
   "execution_count": null,
   "metadata": {
    "scrolled": false
   },
   "outputs": [],
   "source": [
    "run('p2ch14.training.ClassificationTrainingApp', f'--epochs=40', '--malignant', '--dataset=MalignantLunaDataset',\n",
    "    '--finetune=''data/part2/models/cls_2020-02-06_14.16.55_final-nodule-nonnodule.best.state',\n",
    "    '--finetune-depth=2',\n",
    "    'finetune-depth2')\n"
   ]
  },
  {
   "cell_type": "code",
   "execution_count": null,
   "metadata": {},
   "outputs": [],
   "source": [
    "run('p2ch14.nodule_analysis.NoduleAnalysisApp', '--run-validation')"
   ]
  },
  {
   "cell_type": "code",
   "execution_count": null,
   "metadata": {},
   "outputs": [],
   "source": [
    "run('p2ch14.nodule_analysis.NoduleAnalysisApp', '--run-validation', '--malignancy-path')"
   ]
  },
  {
   "cell_type": "code",
   "execution_count": null,
   "metadata": {},
   "outputs": [],
   "source": []
  },
  {
   "cell_type": "code",
   "execution_count": null,
   "metadata": {},
   "outputs": [],
   "source": []
  }
 ],
 "metadata": {
  "kernelspec": {
   "display_name": "Python 3.9.12 ('disco-diffusion')",
   "language": "python",
   "name": "python3"
  },
  "language_info": {
   "codemirror_mode": {
    "name": "ipython",
    "version": 3
   },
   "file_extension": ".py",
   "mimetype": "text/x-python",
   "name": "python",
   "nbconvert_exporter": "python",
   "pygments_lexer": "ipython3",
   "version": "3.9.12"
  },
  "vscode": {
   "interpreter": {
    "hash": "2d154572db74bf447d8ef00b8088999b75aecc8ee0cff4dd3dcc88c51a55f698"
   }
  }
 },
 "nbformat": 4,
 "nbformat_minor": 2
}
