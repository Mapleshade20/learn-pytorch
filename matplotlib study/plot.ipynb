{
 "cells": [
  {
   "cell_type": "code",
   "execution_count": 3,
   "metadata": {},
   "outputs": [],
   "source": [
    "import numpy as np\n",
    "import matplotlib.pyplot as plt"
   ]
  },
  {
   "cell_type": "markdown",
   "metadata": {},
   "source": [
    "plt.plot() 生成图表\n",
    "\n",
    "plt.show() 展示图表"
   ]
  },
  {
   "cell_type": "markdown",
   "metadata": {},
   "source": [
    "1. 线条样式\n",
    "    -  '-' 实线\n",
    "    -  '--' 虚线\n",
    "    -  '-.' 点划线\n",
    "    -  ':' 点线\n",
    "2. 标记样式\n",
    "    - '.' 点\n",
    "    - ',' 像素\n",
    "    - 'o' 圆形\n",
    "    - 'x' 叉号\n",
    "    - '+' 加号\n",
    "3. 色彩简写\n",
    "    - 'r' 'g' 'b' 'w' 'y' 红绿蓝白黄\n",
    "    - 'k' black\n",
    "    - 'c' cyan\n",
    "    - 'm' magenta 洋红\n",
    "4. 其他参数\n",
    "    - alpha 透明度\n",
    "    - linewidth 线条宽度\n",
    "    - markersize 标记大小"
   ]
  },
  {
   "cell_type": "markdown",
   "metadata": {},
   "source": [
    "设置坐标轴的范围和标签\n",
    "1. axis([-10, 10, 30, 40])\n",
    "2. ylim((30, 40))\n",
    "3. xlabel(\"temperature\")"
   ]
  },
  {
   "cell_type": "code",
   "execution_count": 15,
   "metadata": {},
   "outputs": [
    {
     "data": {
      "image/png": "[encoded data removed]",
      "text/plain": [
       "<Figure size 432x288 with 1 Axes>"
      ]
     },
     "metadata": {
      "needs_background": "light"
     },
     "output_type": "display_data"
    }
   ],
   "source": [
    "x = np.array([0. , 0.1, 0.2, 0.3, 0.4, 0.5, 0.6, 0.7, 0.8, 0.9, 1. , 2. , 2.1, 2.2, 2.3, 2.4, 2.5,\n",
    "       2.6, 2.7, 2.8, 2.9, 3. , 3.1, 3.2, 3.3, 3.4, 3.5, 3.6, 3.7, 3.8,\n",
    "       3.9, 4. , 4.1, 4.2, 4.3, 4.4, 4.5, 4.6, 4.7, 4.8, 4.9])\n",
    "y = np.square(x)\n",
    "plt.plot(x, y)      # 默认是线条\n",
    "plt.show()"
   ]
  },
  {
   "cell_type": "code",
   "execution_count": 16,
   "metadata": {},
   "outputs": [
    {
     "data": {
      "text/plain": [
       "[<matplotlib.lines.Line2D at 0x209366768b0>]"
      ]
     },
     "execution_count": 16,
     "metadata": {},
     "output_type": "execute_result"
    },
    {
     "data": {
      "image/png": "[encoded data removed]",
      "text/plain": [
       "<Figure size 432x288 with 1 Axes>"
      ]
     },
     "metadata": {
      "needs_background": "light"
     },
     "output_type": "display_data"
    }
   ],
   "source": [
    "plt.plot(x, y, \".\")"
   ]
  },
  {
   "cell_type": "code",
   "execution_count": 1,
   "metadata": {},
   "outputs": [],
   "source": [
    "import copy\n",
    "import csv\n",
    "import functools\n",
    "import glob\n",
    "import os\n",
    "\n",
    "from collections import namedtuple\n",
    "\n",
    "import SimpleITK as sitk\n",
    "import numpy as np\n",
    "\n",
    "import torch\n",
    "import torch.cuda\n",
    "from torch.utils.data import Dataset\n",
    "\n",
    "from util.disk import getCache\n",
    "from util.util import XyzTuple, xyz2irc\n",
    "from util.logconf import logging"
   ]
  },
  {
   "cell_type": "code",
   "execution_count": 7,
   "metadata": {},
   "outputs": [],
   "source": [
    "CandidateInfoTuple = namedtuple(\n",
    "    'CandidateInfoTuple',\n",
    "    'isNodule_bool, diameter_mm, series_uid, center_xyz',\n",
    ")\n",
    "\n",
    "@functools.lru_cache(1)\n",
    "def getCandidateInfoList(requireOnDisk_bool=True):\n",
    "    # We construct a set with all series_uids that are present on disk.\n",
    "    # This will let us use the data, even if we haven't downloaded all of\n",
    "    # the subsets yet.\n",
    "    mhd_list = glob.glob('G:/LUNA16/subset*/*.mhd')     # 得到很多个完整路径G:/foo/bar/114514.mhd\n",
    "    presentOnDisk_set = {os.path.split(p)[-1][:-4] for p in mhd_list}   # 每个路径取114514.mhd部分再截取点前部分\n",
    "\n",
    "    \"\"\"\n",
    "    从anno取, 到candi里挑选位置相差不大的\n",
    "    \"\"\"\n",
    "    diameter_dict = {}\n",
    "    with open('G:/LUNA16/annotations.csv', \"r\") as f:\n",
    "        for row in list(csv.reader(f))[1:]:     # 从第二行开始, 读取一行信息\n",
    "            series_uid = row[0]     # 获取这一行的第一个值seriesuid\n",
    "            annotationCenter_xyz = tuple([float(x) for x in row[1:4]])      # 获取这一行的二三四值x,y,z\n",
    "            annotationDiameter_mm = float(row[4])       # 获取这一行的第五个值d\n",
    "\n",
    "            diameter_dict.setdefault(series_uid, []).append(    # 向[]内append\n",
    "                # a.setdefault(key, value)等同于a[key]但键不存在时新建一个key-value键对\n",
    "                (annotationCenter_xyz, annotationDiameter_mm)\n",
    "            )\n",
    "\n",
    "    candidateInfo_list = []\n",
    "    with open('G:/LUNA16/candidates.csv', \"r\") as f:\n",
    "        for row in list(csv.reader(f))[1:]:\n",
    "            series_uid = row[0]\n",
    "\n",
    "            if series_uid not in presentOnDisk_set and requireOnDisk_bool:\n",
    "                continue        # 从csv获取的全部uid中选出那些在磁盘上的\n",
    "\n",
    "            isNodule_bool = bool(int(row[4]))   # 从candidate.csv获取是否为结节的class 0/1\n",
    "            candidateCenter_xyz = tuple([float(x) for x in row[1:4]])\n",
    "\n",
    "            candidateDiameter_mm = 0.0\n",
    "            for annotation_tup in diameter_dict.get(series_uid, []):    # 如果不是结节, 返回空[], 不会执行for\n",
    "                annotationCenter_xyz, annotationDiameter_mm = annotation_tup\n",
    "                for i in range(3):\n",
    "                    delta_mm = abs(candidateCenter_xyz[i] - annotationCenter_xyz[i])\n",
    "                    if delta_mm > annotationDiameter_mm / 4:\n",
    "                        break       # 排除那些同uid但位置在candidate和annotation之间差太远的点\n",
    "                else:   # 在for中未break的前提下, 最终执行, 正式把符合要求的点坐标传出去\n",
    "                    candidateDiameter_mm = annotationDiameter_mm\n",
    "                    break\n",
    "\n",
    "            candidateInfo_list.append(CandidateInfoTuple(\n",
    "                isNodule_bool,\n",
    "                candidateDiameter_mm,\n",
    "                series_uid,\n",
    "                candidateCenter_xyz,\n",
    "            ))\n",
    "\n",
    "    candidateInfo_list.sort(reverse=True)   # sort descend\n",
    "    return candidateInfo_list"
   ]
  },
  {
   "cell_type": "code",
   "execution_count": null,
   "metadata": {},
   "outputs": [],
   "source": [
    "getCandidateInfoList()"
   ]
  }
 ],
 "metadata": {
  "kernelspec": {
   "display_name": "Python 3.9.12 ('disco-diffusion')",
   "language": "python",
   "name": "python3"
  },
  "language_info": {
   "codemirror_mode": {
    "name": "ipython",
    "version": 3
   },
   "file_extension": ".py",
   "mimetype": "text/x-python",
   "name": "python",
   "nbconvert_exporter": "python",
   "pygments_lexer": "ipython3",
   "version": "3.9.12"
  },
  "orig_nbformat": 4,
  "vscode": {
   "interpreter": {
    "hash": "2d154572db74bf447d8ef00b8088999b75aecc8ee0cff4dd3dcc88c51a55f698"
   }
  }
 },
 "nbformat": 4,
 "nbformat_minor": 2
}
