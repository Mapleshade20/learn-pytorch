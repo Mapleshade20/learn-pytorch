{
 "cells": [
  {
   "cell_type": "markdown",
   "metadata": {},
   "source": [
    "张量的赋值与索引"
   ]
  },
  {
   "cell_type": "code",
   "execution_count": 13,
   "metadata": {},
   "outputs": [
    {
     "name": "stdout",
     "output_type": "stream",
     "text": [
      "tensor([1., 1., 1.])\n",
      "tensor(1.)\n",
      "1.0\n"
     ]
    }
   ],
   "source": [
    "import torch\n",
    "\n",
    "b = torch.ones(3)   # 创建大小为3的一维张量, 用1.0填充\n",
    "print(b)\n",
    "\n",
    "print(b[1])\n",
    "print(float(b[1]))  # 直接索引元素得到的还是张量, 需要转化成浮点型"
   ]
  },
  {
   "cell_type": "code",
   "execution_count": 14,
   "metadata": {},
   "outputs": [
    {
     "name": "stdout",
     "output_type": "stream",
     "text": [
      "tensor([1., 1., 2.])\n",
      "tensor([1., 1., 3.])\n",
      "tensor([1., 1., 4.])\n"
     ]
    }
   ],
   "source": [
    "b[2] = 2.0\n",
    "print(b)\n",
    "b[2] = torch.tensor(3.)\n",
    "print(b)\n",
    "b[2] = torch.tensor([4.])     # 把 python list 转化成张量\n",
    "# ERROR: b[2] = torch.tensor([4., 5.])\n",
    "print(b)\n",
    "\n",
    "# 三种赋值方式等价"
   ]
  },
  {
   "cell_type": "markdown",
   "metadata": {},
   "source": [
    "张量的形状"
   ]
  },
  {
   "cell_type": "code",
   "execution_count": 15,
   "metadata": {},
   "outputs": [
    {
     "name": "stdout",
     "output_type": "stream",
     "text": [
      "Get shape:  torch.Size([3, 2])\n",
      "tensor(1.)\n"
     ]
    }
   ],
   "source": [
    "points = torch.tensor([[4.0, 1.0], [5.0, 2.0], [6.0, 3.0]])\n",
    "print('Get shape: ', points.shape)   # 3行, 2列\n",
    "\n",
    "print(points[0,1])   # 双索引, 0号列表里的1号元素, 从外往里数方括号"
   ]
  },
  {
   "cell_type": "markdown",
   "metadata": {},
   "source": [
    "复习python列表索引"
   ]
  },
  {
   "cell_type": "code",
   "execution_count": 16,
   "metadata": {},
   "outputs": [
    {
     "name": "stdout",
     "output_type": "stream",
     "text": [
      "[0, 1, 2, 3, 4, 5]\n",
      "[1, 2, 3]\n",
      "[0, 1, 2, 3]\n",
      "[0, 1, 2, 3, 4]\n",
      "[1, 3]\n"
     ]
    }
   ],
   "source": [
    "some_list = list(range(6))\n",
    "print(some_list[:])\n",
    "print(some_list[1:4])\n",
    "print(some_list[:4])\n",
    "print(some_list[:-1])\n",
    "print(some_list[1:5:2])   # 1到5, 左闭右开, 步长为2"
   ]
  },
  {
   "cell_type": "markdown",
   "metadata": {},
   "source": [
    "命名张量的维度"
   ]
  },
  {
   "cell_type": "code",
   "execution_count": 21,
   "metadata": {},
   "outputs": [
    {
     "name": "stdout",
     "output_type": "stream",
     "text": [
      "torch.Size([3, 5, 5]) tensor([[[-0.8005,  0.2126,  0.6393, -0.5141,  1.0192],\n",
      "         [-0.2104, -0.5836,  0.9369, -1.2296,  0.0035],\n",
      "         [ 0.2587, -0.5218, -1.4050, -1.2024,  0.4213],\n",
      "         [ 0.1904, -0.8433,  1.7315,  1.4248, -0.0919],\n",
      "         [-0.3526, -0.1195,  0.1268, -0.0526,  1.2233]],\n",
      "\n",
      "        [[-0.6718, -0.6073,  0.0983,  3.0248, -1.5247],\n",
      "         [ 1.6705,  0.6429,  0.3485,  0.2379, -0.7924],\n",
      "         [-0.4174, -1.0078,  1.1660, -0.3046, -0.4887],\n",
      "         [-0.0539,  1.8971,  0.2826, -0.1701, -1.2651],\n",
      "         [ 0.0853, -1.8277, -0.9421, -0.9462, -1.3493]],\n",
      "\n",
      "        [[-0.7755,  1.4155, -0.8846, -1.1090, -0.7678],\n",
      "         [-0.7022, -0.1152, -0.1823,  0.4114, -0.5163],\n",
      "         [-0.6137,  0.0217, -1.2823, -1.4639, -0.2829],\n",
      "         [ 0.5612,  0.1030,  1.2911,  0.2326,  0.0277],\n",
      "         [-1.5713, -0.4111, -1.1641, -0.9201,  2.0845]]])\n",
      "torch.Size([5, 5]) tensor([[-0.7493,  0.3403, -0.0490,  0.4672, -0.4244],\n",
      "        [ 0.2526, -0.0186,  0.3677, -0.1935, -0.4351],\n",
      "        [-0.2574, -0.5026, -0.5071, -0.9903, -0.1168],\n",
      "        [ 0.2326,  0.3856,  1.1018,  0.4958, -0.4431],\n",
      "        [-0.6129, -0.7861, -0.6598, -0.6396,  0.6528]])\n"
     ]
    }
   ],
   "source": [
    "img_t = torch.randn(3, 5, 5)        # Shape (channels, rows, columns)\n",
    "print(img_t.shape, img_t)\n",
    "batch_t = torch.randn(2, 3, 5, 5)   # Shape (batch, channels, rows, columns <- 这个叫作第四个维度的数量)\n",
    "# print('batch_t: ',batch_t)\n",
    "\n",
    "img_gray_naive = img_t.mean(-3)\n",
    "# 消除倒数第三个维度. 假设这个维度的数量是3, 把这个维度上的每3个值叠起来用一个平均值代替. \n",
    "batch_gray_naive = batch_t.mean(-3)\n",
    "print(img_gray_naive.shape, img_gray_naive)\n",
    "# print(batch_gray_naive.shape, batch_gray_naive)"
   ]
  },
  {
   "cell_type": "markdown",
   "metadata": {},
   "source": [
    "```\n",
    "升维\n",
    "torch.unsqueeze(\n",
    "\tinput, \n",
    "\tdim, \t     # dim 从0算起, 将要扩增的维度【必填】\n",
    "\tout = None)\n",
    "如果dim为负, 则将会被转化dim+input.dim()+1, 即在最后增一维\n",
    "\n",
    "降维\n",
    "torch.squeeze(\n",
    "    input, \n",
    "\tdim, \t     # dim 从0算起, 将要挤压的维度【必填】\n",
    "\tout = None)\n",
    "如果dim指定的维度的值为1, 则将该维度删除, 若指定的维度值不为1, 则返回原来的tensor\n",
    "\n",
    "unsqueeze_ 和 unsqueeze 实现一样的功能, \n",
    "区别在于 unsqueeze 不会对使用 unsqueeze 的 tensor 进行改变, 想要获取 unsqueeze 后的值必须赋予个新值, \n",
    "unsqueeze_ 则会对自己改变. \n",
    "```"
   ]
  },
  {
   "cell_type": "code",
   "execution_count": 27,
   "metadata": {},
   "outputs": [
    {
     "name": "stdout",
     "output_type": "stream",
     "text": [
      "tensor([[[0.2126]],\n",
      "\n",
      "        [[0.7152]],\n",
      "\n",
      "        [[0.0722]]])\n"
     ]
    }
   ],
   "source": [
    "weights = torch.tensor([0.2126, 0.7152, 0.0722])\n",
    "# 我们可以对相同形状的张量进行乘法运算, 所以需要对张量进行升维/降维\n",
    "\n",
    "unsqueezed_weights = weights.unsqueeze(-1).unsqueeze_(-1)  # 在最后(即最小维度)升两维\n",
    "print(unsqueezed_weights)\n",
    "\n",
    "img_weights = (img_t * unsqueezed_weights)\n",
    "batch_weights = (batch_t * unsqueezed_weights)\n",
    "img_gray_weighted = img_weights.sum(-3)\n",
    "batch_gray_weighted = batch_weights.sum(-3)\n",
    "# batch_weights.shape, batch_t.shape, unsqueezed_weights.shape"
   ]
  }
 ],
 "metadata": {
  "kernelspec": {
   "display_name": "Python 3.9.12 ('disco-diffusion')",
   "language": "python",
   "name": "python3"
  },
  "language_info": {
   "codemirror_mode": {
    "name": "ipython",
    "version": 3
   },
   "file_extension": ".py",
   "mimetype": "text/x-python",
   "name": "python",
   "nbconvert_exporter": "python",
   "pygments_lexer": "ipython3",
   "version": "3.9.12"
  },
  "orig_nbformat": 4,
  "vscode": {
   "interpreter": {
    "hash": "2d154572db74bf447d8ef00b8088999b75aecc8ee0cff4dd3dcc88c51a55f698"
   }
  }
 },
 "nbformat": 4,
 "nbformat_minor": 2
}
