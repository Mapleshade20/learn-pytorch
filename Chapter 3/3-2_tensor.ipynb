{
 "cells": [
  {
   "cell_type": "markdown",
   "metadata": {},
   "source": [
    "## 张量的赋值与索引"
   ]
  },
  {
   "cell_type": "code",
   "execution_count": 1,
   "metadata": {},
   "outputs": [
    {
     "name": "stdout",
     "output_type": "stream",
     "text": [
      "tensor([1., 1., 1.])\n",
      "tensor(1.)\n",
      "1.0\n"
     ]
    }
   ],
   "source": [
    "import torch\n",
    "\n",
    "b = torch.ones(3)   # 创建大小为3的一维张量, 用1.0填充\n",
    "print(b)\n",
    "\n",
    "print(b[1])\n",
    "print(float(b[1]))  # 直接索引元素得到的还是张量, 需要转化成浮点型"
   ]
  },
  {
   "cell_type": "code",
   "execution_count": 14,
   "metadata": {},
   "outputs": [
    {
     "name": "stdout",
     "output_type": "stream",
     "text": [
      "tensor([1., 1., 2.])\n",
      "tensor([1., 1., 3.])\n",
      "tensor([1., 1., 4.])\n"
     ]
    }
   ],
   "source": [
    "b[2] = 2.0\n",
    "print(b)\n",
    "b[2] = torch.tensor(3.)\n",
    "print(b)\n",
    "b[2] = torch.tensor([4.])     # 把 python list 转化成张量\n",
    "# ERROR: b[2] = torch.tensor([4., 5.])\n",
    "print(b)\n",
    "\n",
    "# 三种赋值方式等价"
   ]
  },
  {
   "cell_type": "markdown",
   "metadata": {},
   "source": [
    "## 张量的形状"
   ]
  },
  {
   "cell_type": "code",
   "execution_count": 15,
   "metadata": {},
   "outputs": [
    {
     "name": "stdout",
     "output_type": "stream",
     "text": [
      "Get shape:  torch.Size([3, 2])\n",
      "tensor(1.)\n"
     ]
    }
   ],
   "source": [
    "points = torch.tensor([[4.0, 1.0], [5.0, 2.0], [6.0, 3.0]])\n",
    "print('Get shape: ', points.shape)   # 3行, 2列\n",
    "\n",
    "print(points[0,1])   # 双索引, 0号列表里的1号元素, 从外往里数方括号"
   ]
  },
  {
   "cell_type": "markdown",
   "metadata": {},
   "source": [
    "复习python列表索引"
   ]
  },
  {
   "cell_type": "code",
   "execution_count": 16,
   "metadata": {},
   "outputs": [
    {
     "name": "stdout",
     "output_type": "stream",
     "text": [
      "[0, 1, 2, 3, 4, 5]\n",
      "[1, 2, 3]\n",
      "[0, 1, 2, 3]\n",
      "[0, 1, 2, 3, 4]\n",
      "[1, 3]\n"
     ]
    }
   ],
   "source": [
    "some_list = list(range(6))\n",
    "print(some_list[:])\n",
    "print(some_list[1:4])\n",
    "print(some_list[:4])\n",
    "print(some_list[:-1])\n",
    "print(some_list[1:5:2])   # 1到5, 左闭右开, 步长为2"
   ]
  },
  {
   "cell_type": "markdown",
   "metadata": {},
   "source": [
    "## 张量维度的命名"
   ]
  },
  {
   "cell_type": "code",
   "execution_count": 17,
   "metadata": {},
   "outputs": [
    {
     "name": "stdout",
     "output_type": "stream",
     "text": [
      "torch.Size([3, 5, 5]) tensor([[[-2.1124, -0.1553,  0.4629, -1.2841, -0.7911],\n",
      "         [-0.4554, -0.1023,  1.2334,  0.5040,  1.0239],\n",
      "         [ 1.5715,  0.4889,  0.4412, -1.8039, -0.1684],\n",
      "         [-0.6147, -0.8977, -1.0812, -1.7793, -2.1803],\n",
      "         [-0.5545, -0.5752,  0.7825,  1.2249,  0.1197]],\n",
      "\n",
      "        [[ 0.0218,  0.2895,  0.0707,  0.0917, -0.3342],\n",
      "         [ 0.4822,  1.1502, -1.5371,  0.7558,  0.2984],\n",
      "         [ 1.7904, -1.0492, -0.3073,  0.0193, -0.6199],\n",
      "         [ 0.8969, -1.6550, -0.2114, -2.7102, -0.1010],\n",
      "         [-0.4362, -1.2606, -0.8926, -0.6409,  0.3925]],\n",
      "\n",
      "        [[ 0.8049,  0.9331, -0.9726,  0.5734,  0.7047],\n",
      "         [-0.9811, -0.4129,  1.0603,  0.0539,  0.8855],\n",
      "         [-0.0255,  0.1353,  0.7175, -1.2731, -1.2798],\n",
      "         [-1.8609,  0.4330, -2.4583, -0.2989, -0.8667],\n",
      "         [ 0.7479, -0.6694,  0.1192,  0.6350,  0.3875]]])\n",
      "torch.Size([5, 5])\n"
     ]
    }
   ],
   "source": [
    "img_t = torch.randn(3, 5, 5)        # Shape (channels, rows, columns)\n",
    "print(img_t.shape, img_t)\n",
    "batch_t = torch.randn(2, 3, 5, 5)   # Shape (batch, channels, rows, columns <- 这个叫作第四个维度的数量)\n",
    "# print('batch_t: ',batch_t)\n",
    "\n",
    "img_gray_naive = img_t.mean(-3)\n",
    "# 消除倒数第三个维度. 假设这个维度的数量是3, 把这个维度上的每3个值叠起来用一个平均值代替. \n",
    "batch_gray_naive = batch_t.mean(-3)\n",
    "print(img_gray_naive.shape)\n",
    "# print(batch_gray_naive.shape, batch_gray_naive)"
   ]
  },
  {
   "cell_type": "markdown",
   "metadata": {},
   "source": [
    "```\n",
    "升维\n",
    "torch.unsqueeze(\n",
    "\tinput, \n",
    "\tdim, \t     # dim 从0算起, 将要扩增的维度【必填】\n",
    "\tout = None)\n",
    "如果dim为负, 则将会被转化dim+input.dim()+1, 即在最后增一维\n",
    "\n",
    "降维\n",
    "torch.squeeze(\n",
    "\tinput, \n",
    "\tdim, \t     # dim 从0算起, 将要挤压的维度【必填】\n",
    "\tout = None)\n",
    "如果dim指定的维度的值为1, 则将该维度删除, 若指定的维度值不为1, 则返回原来的tensor\n",
    "\n",
    "unsqueeze_ 和 unsqueeze 实现一样的功能, \n",
    "区别在于 unsqueeze 不会对使用 unsqueeze 的 tensor 进行改变, 想要获取 unsqueeze 后的值必须赋予个新值, \n",
    "unsqueeze_ 则会对自己改变. \n",
    "```"
   ]
  },
  {
   "cell_type": "markdown",
   "metadata": {},
   "source": [
    "```\n",
    "张量点乘, 对于某个维度:\n",
    "若数量都不是1, 则必须数量相等才能相乘, 计算方法是: i位对i位相乘\n",
    "若数量有一个是1, 则可以相乘, 计算方法是: 多数量的每一个值分别去乘单数量的值, 类似乘法分配律\n",
    "```"
   ]
  },
  {
   "cell_type": "code",
   "execution_count": 18,
   "metadata": {},
   "outputs": [
    {
     "name": "stdout",
     "output_type": "stream",
     "text": [
      "torch.Size([3, 1, 1]) tensor([[[0.2126]],\n",
      "\n",
      "        [[0.7152]],\n",
      "\n",
      "        [[0.0722]]])\n",
      "torch.Size([3, 5, 5])\n"
     ]
    }
   ],
   "source": [
    "weights = torch.tensor([0.2126, 0.7152, 0.0722])\n",
    "# 我们可以对相同形状的张量进行乘法运算, 所以需要对张量进行升维/降维\n",
    "\n",
    "unsqueezed_weights = weights.unsqueeze(-1).unsqueeze_(-1)  # 在最后(即最小维度)升两维\n",
    "print(unsqueezed_weights.shape, unsqueezed_weights)\n",
    "\n",
    "img_weights = (img_t * unsqueezed_weights)\n",
    "print(img_weights.shape)\n",
    "batch_weights = (batch_t * unsqueezed_weights)\n",
    "img_gray_weighted = img_weights.sum(-3)\n",
    "batch_gray_weighted = batch_weights.sum(-3)\n",
    "# batch_weights.shape, batch_t.shape, unsqueezed_weights.shape"
   ]
  },
  {
   "cell_type": "code",
   "execution_count": 15,
   "metadata": {},
   "outputs": [
    {
     "name": "stdout",
     "output_type": "stream",
     "text": [
      "tensor([3, 5, 7, 9]) <TIMES> tensor([13, 17, 19, 23])  =  tensor([ 39,  85, 133, 207])\n",
      "tensor([3]) <TIMES> tensor([13, 17, 19, 23])  =  tensor([39, 51, 57, 69])\n",
      "tensor([[ 3],\n",
      "        [27]]) <TIMES> tensor([[13, 17, 19, 23],\n",
      "        [ 1,  5,  7, 11]])  =  tensor([[ 39,  51,  57,  69],\n",
      "        [ 27, 135, 189, 297]])\n",
      "tensor([[3, 4, 1, 2],\n",
      "        [5, 6, 7, 8]]) <TIMES> tensor([[10, 11, 12, 13],\n",
      "        [14, 15, 16, 17]])  =  tensor([[ 30,  44,  12,  26],\n",
      "        [ 70,  90, 112, 136]])\n"
     ]
    }
   ],
   "source": [
    "# tensor multiplication test\n",
    "\n",
    "def mult(A, B):\n",
    "    print(A, '<TIMES>', B, ' = ', A * B)\n",
    "\n",
    "x = torch.tensor([3, 5, 7, 9])\n",
    "# ERROR: x = torch.tensor([3, 5, 7])\n",
    "y = torch.tensor([13, 17, 19, 23])\n",
    "mult(x, y)\n",
    "\n",
    "x = torch.tensor([3])\n",
    "y = torch.tensor([13, 17, 19, 23])\n",
    "mult(x, y)\n",
    "\n",
    "x = torch.tensor([[3]])\n",
    "x = torch.tensor([[3], [27]])\n",
    "# ERROR: x = torch.tensor([[3], [27], [99]])\n",
    "y = torch.tensor([[13, 17, 19, 23], [1, 5, 7, 11]])\n",
    "mult(x, y)\n",
    "\n",
    "x = torch.tensor([[3, 4, 1, 2], [5, 6, 7, 8]])\n",
    "y = torch.tensor([[10, 11, 12, 13], [14, 15, 16, 17]])\n",
    "mult(x, y)"
   ]
  }
 ],
 "metadata": {
  "kernelspec": {
   "display_name": "Python 3.9.12 ('disco-diffusion')",
   "language": "python",
   "name": "python3"
  },
  "language_info": {
   "codemirror_mode": {
    "name": "ipython",
    "version": 3
   },
   "file_extension": ".py",
   "mimetype": "text/x-python",
   "name": "python",
   "nbconvert_exporter": "python",
   "pygments_lexer": "ipython3",
   "version": "3.9.12"
  },
  "orig_nbformat": 4,
  "vscode": {
   "interpreter": {
    "hash": "2d154572db74bf447d8ef00b8088999b75aecc8ee0cff4dd3dcc88c51a55f698"
   }
  }
 },
 "nbformat": 4,
 "nbformat_minor": 2
}
