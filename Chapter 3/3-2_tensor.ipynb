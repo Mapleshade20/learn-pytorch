{
 "cells": [
  {
   "cell_type": "code",
   "execution_count": null,
   "metadata": {},
   "outputs": [],
   "source": [
    "import torch"
   ]
  },
  {
   "cell_type": "markdown",
   "metadata": {},
   "source": [
    "## 张量的赋值与索引"
   ]
  },
  {
   "cell_type": "code",
   "execution_count": null,
   "metadata": {},
   "outputs": [],
   "source": [
    "b = torch.ones(3)   # 创建大小为3的一维张量, 用1.0填充\n",
    "print(b)\n",
    "\n",
    "print(b[1])\n",
    "print(float(b[1]))  # 直接索引元素得到的还是张量, 需要转化成浮点型"
   ]
  },
  {
   "cell_type": "code",
   "execution_count": null,
   "metadata": {},
   "outputs": [],
   "source": [
    "b[2] = 2.0\n",
    "print(b)\n",
    "b[2] = torch.tensor(3.)\n",
    "print(b)\n",
    "b[2] = torch.tensor([4.])     # 把 python list 转化成张量\n",
    "# ERROR: b[2] = torch.tensor([4., 5.])\n",
    "print(b)\n",
    "\n",
    "# 三种赋值方式等价"
   ]
  },
  {
   "cell_type": "markdown",
   "metadata": {},
   "source": [
    "复习python列表索引"
   ]
  },
  {
   "cell_type": "code",
   "execution_count": null,
   "metadata": {},
   "outputs": [],
   "source": [
    "some_list = list(range(6))\n",
    "print(some_list[:])\n",
    "print(some_list[1:4])\n",
    "print(some_list[:4])\n",
    "print(some_list[:-1])\n",
    "print(some_list[1:5:2])   # 1到5, 左闭右开, 步长为2"
   ]
  },
  {
   "cell_type": "markdown",
   "metadata": {},
   "source": [
    "## 张量的形状"
   ]
  },
  {
   "cell_type": "code",
   "execution_count": null,
   "metadata": {},
   "outputs": [],
   "source": [
    "points = torch.tensor([[4.0, 1.0], [5.0, 2.0], [6.0, 3.0]])\n",
    "print('Get shape: ', points.shape)   # 3行, 2列\n",
    "\n",
    "print(points[0,1])   # 双索引, 0号列表里的1号元素, 从外往里数方括号"
   ]
  },
  {
   "cell_type": "markdown",
   "metadata": {},
   "source": [
    "## 张量维度的变换"
   ]
  },
  {
   "cell_type": "markdown",
   "metadata": {},
   "source": [
    "张量的每一对方括号 **<u>向内</u>** 是一个维度"
   ]
  },
  {
   "cell_type": "markdown",
   "metadata": {},
   "source": [
    "```\n",
    "升维\n",
    "torch.unsqueeze(\n",
    "\tinput, \n",
    "\tdim, \t     # dim 从0算起, 将要扩增的维度【必填】\n",
    "\tout = None)\n",
    "如果dim为负, 则将会被转化dim+input.dim()+1, 即在最后增一维\n",
    "\n",
    "降维\n",
    "torch.squeeze(\n",
    "\tinput, \n",
    "\tdim, \t     # dim 从0算起, 将要挤压的维度【必填】\n",
    "\tout = None)\n",
    "如果dim指定的维度的值为1, 则将该维度删除, 若指定的维度值不为1, 则返回原来的tensor\n",
    "\n",
    "unsqueeze_ 和 unsqueeze 实现一样的功能, \n",
    "区别在于 unsqueeze 不会对使用 unsqueeze 的 tensor 进行改变, 想要获取 unsqueeze 后的值必须赋予个新值, \n",
    "unsqueeze_ 则会对自己改变. \n",
    "```"
   ]
  },
  {
   "cell_type": "code",
   "execution_count": null,
   "metadata": {},
   "outputs": [],
   "source": [
    "img_t = torch.randn(3, 5, 5)        # Shape (channels, rows, columns)\n",
    "print(img_t.shape, img_t)\n",
    "batch_t = torch.randn(2, 3, 5, 5)   # Shape (batch, channels, rows, columns <- 这个叫作第四个维度的数量)\n",
    "# print('batch_t: ',batch_t)\n",
    "\n",
    "img_gray_naive = img_t.mean(-3)\n",
    "# 消除倒数第三个维度. 假设这个维度的数量是3, 把这个维度上的每3个值叠起来用一个平均值代替. \n",
    "batch_gray_naive = batch_t.mean(-3)\n",
    "print(img_gray_naive.shape)\n",
    "# print(batch_gray_naive.shape, batch_gray_naive)"
   ]
  },
  {
   "cell_type": "markdown",
   "metadata": {},
   "source": [
    "## 张量的求和和点乘"
   ]
  },
  {
   "cell_type": "markdown",
   "metadata": {},
   "source": [
    "```\n",
    "张量点乘, 对于某个维度:\n",
    "若数量都不是1, 则必须数量相等才能相乘, 计算方法是: i位对i位相乘\n",
    "若数量有一个是1, 则可以相乘, 计算方法是: 多数量的每一个值分别去乘单数量的值, 类似乘法分配律\n",
    "```"
   ]
  },
  {
   "cell_type": "code",
   "execution_count": null,
   "metadata": {},
   "outputs": [],
   "source": [
    "weights = torch.tensor([0.2126, 0.7152, 0.0722])\n",
    "# 我们可以对相同形状的张量进行乘法运算, 所以需要对张量进行升维/降维\n",
    "\n",
    "unsqueezed_weights = weights.unsqueeze(-1).unsqueeze_(-1)  # 在最后(即最小维度)升两维\n",
    "print(unsqueezed_weights.shape, unsqueezed_weights)\n",
    "\n",
    "img_weights = (img_t * unsqueezed_weights)\n",
    "print(img_weights.shape)\n",
    "batch_weights = (batch_t * unsqueezed_weights)\n",
    "img_gray_weighted = img_weights.sum(-3)\n",
    "batch_gray_weighted = batch_weights.sum(-3)\n",
    "# batch_weights.shape, batch_t.shape, unsqueezed_weights.shape"
   ]
  },
  {
   "cell_type": "code",
   "execution_count": null,
   "metadata": {},
   "outputs": [],
   "source": [
    "# tensor multiplication test\n",
    "\n",
    "def mult(A, B):\n",
    "    print(A, '<TIMES>', B, ' = ', A * B)\n",
    "\n",
    "x = torch.tensor([3, 5, 7, 9])\n",
    "# ERROR: x = torch.tensor([3, 5, 7])\n",
    "y = torch.tensor([13, 17, 19, 23])\n",
    "mult(x, y)\n",
    "\n",
    "x = torch.tensor([3])\n",
    "y = torch.tensor([13, 17, 19, 23])\n",
    "mult(x, y)\n",
    "\n",
    "x = torch.tensor([[3]])\n",
    "x = torch.tensor([[3], [27]])\n",
    "# ERROR: x = torch.tensor([[3], [27], [99]])\n",
    "y = torch.tensor([[13, 17, 19, 23], [1, 5, 7, 11]])\n",
    "mult(x, y)\n",
    "\n",
    "x = torch.tensor([[3, 4, 1, 2], [5, 6, 7, 8]])\n",
    "y = torch.tensor([[10, 11, 12, 13], [14, 15, 16, 17]])\n",
    "mult(x, y)"
   ]
  },
  {
   "cell_type": "markdown",
   "metadata": {},
   "source": [
    "## 张量维度的命名"
   ]
  },
  {
   "cell_type": "code",
   "execution_count": null,
   "metadata": {},
   "outputs": [],
   "source": [
    "# 给维度命名\n",
    "weights_unnamed = torch.tensor([[[0.2], [0.7]], [[0.3], [0.6]]])\n",
    "weights_named = torch.tensor([[[0.2], [0.7]], [[0.3], [0.6]]], names = ['channels', 'rows', None])\n",
    "print(weights_named.shape, weights_named)\n",
    "weights_A = weights_unnamed.refine_names(..., 'cha', 'ro')\n",
    "print(weights_A.shape, weights_A)\n",
    "# ERROR: weights_B = weights_named.refine_names(..., 'cha', 'ro')\n",
    "weights_B = weights_named.refine_names(..., 'rows', 'columns')\n",
    "print(weights_B.shape, weights_B)\n",
    "weights_C = weights_B[1][0]\n",
    "print(weights_C.shape, weights_C)\n",
    "\n",
    "# 如果本来没有名称, 三点表示在末尾处赋予名称\n",
    "# 如果本来有名称, 三点后的第一个字符串应当是已经存在的名称, 改名从这里开始"
   ]
  },
  {
   "cell_type": "code",
   "execution_count": null,
   "metadata": {},
   "outputs": [],
   "source": [
    "weights_aligned = weights_C.align_as(weights_B)\n",
    "print(weights_aligned.shape, weights_aligned)\n",
    "weights_mul = (weights_aligned * weights_B)\n",
    "print(weights_mul.shape, weights_mul)\n",
    "weights_sum = weights_mul.sum('rows')\n",
    "print(weights_sum.shape, weights_sum)"
   ]
  }
 ],
 "metadata": {
  "kernelspec": {
   "display_name": "Python 3.9.12 ('disco-diffusion')",
   "language": "python",
   "name": "python3"
  },
  "language_info": {
   "codemirror_mode": {
    "name": "ipython",
    "version": 3
   },
   "file_extension": ".py",
   "mimetype": "text/x-python",
   "name": "python",
   "nbconvert_exporter": "python",
   "pygments_lexer": "ipython3",
   "version": "3.9.12"
  },
  "orig_nbformat": 4,
  "vscode": {
   "interpreter": {
    "hash": "2d154572db74bf447d8ef00b8088999b75aecc8ee0cff4dd3dcc88c51a55f698"
   }
  }
 },
 "nbformat": 4,
 "nbformat_minor": 2
}
