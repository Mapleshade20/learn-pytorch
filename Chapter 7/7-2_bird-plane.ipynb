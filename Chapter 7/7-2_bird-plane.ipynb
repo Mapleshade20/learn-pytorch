{
 "cells": [
  {
   "cell_type": "code",
   "execution_count": 2,
   "metadata": {},
   "outputs": [],
   "source": [
    "from torchvision import datasets, transforms\n",
    "from matplotlib import pyplot as plt\n",
    "import torch\n",
    "import torch.nn as nn\n",
    "import torch.optim as optim\n",
    "%matplotlib inline"
   ]
  },
  {
   "cell_type": "markdown",
   "metadata": {},
   "source": [
    "# 构建数据集\n",
    "\n",
    "对于小数据集, 可以自己把标签和图像一一对应, 直接构建, 因为我们只需要__len__()和__getitem__()就可以处理."
   ]
  },
  {
   "cell_type": "code",
   "execution_count": 4,
   "metadata": {},
   "outputs": [],
   "source": [
    "# 下载\n",
    "data_path = './data-unversioned/'\n",
    "transformed_cifar10 = datasets.CIFAR10(\n",
    "    data_path, train=True, download=False,\n",
    "    transform=transforms.Compose([\n",
    "        transforms.ToTensor(),\n",
    "        transforms.Normalize(mean=(0.4914, 0.4822, 0.4465),\n",
    "                             std=(0.2470, 0.2435, 0.2616))\n",
    "    ]))\n",
    "transformed_cifar10_val = datasets.CIFAR10(\n",
    "    data_path, train=False, download=False,\n",
    "    transform=transforms.Compose([\n",
    "        transforms.ToTensor(),\n",
    "        transforms.Normalize(mean=(0.4914, 0.4822, 0.4465),\n",
    "                             std=(0.2470, 0.2435, 0.2616))\n",
    "    ]))\n",
    "\n",
    "label_map = {0: 0, 2: 1}  # dictionary\n",
    "class_names = ['airplane', 'bird']\n",
    "tr_cifar2 = [(img, label_map[label])\n",
    "             for img, label in transformed_cifar10 if label in [0, 2]]\n",
    "tr_cifar2_val = [(img, label_map[label])\n",
    "                 for img, label in transformed_cifar10_val if label in [0, 2]]"
   ]
  },
  {
   "cell_type": "markdown",
   "metadata": {},
   "source": [
    "# 构建全连接神经网络模型"
   ]
  },
  {
   "cell_type": "markdown",
   "metadata": {},
   "source": [
    "对于本例, 需要的输出是[P(plane), P(bird)], 要求概率在0-1且二者和为1. 可以运用Softmax函数来把两个概率转化成这样的输出.\n",
    "\n",
    "softmax(x1, x2) = (e^x1 / (e^x1 + e^x2), e^x2 / (e^x1 + e^x2)). 可用nn.Softmax(dim=...)调用."
   ]
  },
  {
   "cell_type": "code",
   "execution_count": null,
   "metadata": {},
   "outputs": [],
   "source": [
    "# def softmax(x: torch.Tensor):\n",
    "#     return torch.exp(x) / torch.exp(x).sum()"
   ]
  },
  {
   "cell_type": "code",
   "execution_count": 3,
   "metadata": {},
   "outputs": [
    {
     "data": {
      "text/plain": [
       "tensor([[0.5685, 0.4315]], grad_fn=<SoftmaxBackward0>)"
      ]
     },
     "execution_count": 3,
     "metadata": {},
     "output_type": "execute_result"
    }
   ],
   "source": [
    "model = nn.Sequential(\n",
    "    nn.Linear(3072, 512),\n",
    "    nn.Tanh(),\n",
    "    nn.Linear(512, 2),\n",
    "    nn.Softmax(dim=1)\n",
    ")\n",
    "# let's try indentify one image at first\n",
    "img, _ = tr_cifar2[0]\n",
    "img_batch = img.reshape(-1).unsqueeze(0)\n",
    "out = model(img_batch)\n",
    "out"
   ]
  },
  {
   "cell_type": "code",
   "execution_count": null,
   "metadata": {},
   "outputs": [],
   "source": [
    "# model = nn.Linear(2, 3)\n",
    "# input = torch.ones(5, 2)\n",
    "# model(input), model[0].weight, model[0].bias"
   ]
  },
  {
   "cell_type": "markdown",
   "metadata": {},
   "source": [
    "# 损失和反向传播\n",
    "\n",
    "假设输出为[a, b], 我们能通过 a<b 或 a>b 来判断预测类别.\n",
    "\n",
    "nn.NLLLoss类接受对数概率输入, 损失与预测类别正确概率呈负相关."
   ]
  },
  {
   "cell_type": "code",
   "execution_count": 7,
   "metadata": {},
   "outputs": [],
   "source": [
    "# 因此我们要把模型中的 nn.Softmax 改为 nn.LogSoftmax.\n",
    "# 注: LogSoftmax() + NLLLoss() = CrossEntropyLoss()\n",
    "model = nn.Sequential(\n",
    "    nn.Linear(3072, 512),\n",
    "    nn.Tanh(),\n",
    "    nn.Linear(512, 2),\n",
    "    nn.LogSoftmax(dim=1))\n",
    "loss_fn = nn.NLLLoss()"
   ]
  },
  {
   "cell_type": "markdown",
   "metadata": {},
   "source": [
    "DataLoader类可以帮我们打乱数据, 采样小批量."
   ]
  },
  {
   "cell_type": "code",
   "execution_count": 5,
   "metadata": {},
   "outputs": [],
   "source": [
    "batch_size = 64\n",
    "train_loader = torch.utils.data.DataLoader(tr_cifar2, batch_size, shuffle=True)"
   ]
  },
  {
   "cell_type": "code",
   "execution_count": 9,
   "metadata": {},
   "outputs": [
    {
     "name": "stdout",
     "output_type": "stream",
     "text": [
      "Epoch: 1, Loss: 0.6322190761566162\n",
      "Epoch: 2, Loss: 0.37605032324790955\n",
      "Epoch: 3, Loss: 0.43016284704208374\n",
      "Epoch: 4, Loss: 0.4807472825050354\n",
      "Epoch: 5, Loss: 0.4246319532394409\n",
      "Epoch: 6, Loss: 0.24218589067459106\n",
      "Epoch: 7, Loss: 0.3127555847167969\n",
      "Epoch: 8, Loss: 0.3447917401790619\n",
      "Epoch: 9, Loss: 0.34773409366607666\n",
      "Epoch: 10, Loss: 0.42815715074539185\n",
      "Epoch: 11, Loss: 0.4933187663555145\n",
      "Epoch: 12, Loss: 0.07119683921337128\n",
      "Epoch: 13, Loss: 0.28145739436149597\n",
      "Epoch: 14, Loss: 0.5645956993103027\n",
      "Epoch: 15, Loss: 0.37036722898483276\n",
      "Epoch: 16, Loss: 0.24130171537399292\n",
      "Epoch: 17, Loss: 0.10272957384586334\n",
      "Epoch: 18, Loss: 0.18275919556617737\n",
      "Epoch: 19, Loss: 0.32651498913764954\n",
      "Epoch: 20, Loss: 0.26537227630615234\n",
      "Epoch: 21, Loss: 0.3423563838005066\n",
      "Epoch: 22, Loss: 0.3817196190357208\n",
      "Epoch: 23, Loss: 0.27346479892730713\n",
      "Epoch: 24, Loss: 0.30845358967781067\n",
      "Epoch: 25, Loss: 0.38492706418037415\n",
      "Epoch: 26, Loss: 0.1900109499692917\n",
      "Epoch: 27, Loss: 0.4471464455127716\n",
      "Epoch: 28, Loss: 0.5498647689819336\n",
      "Epoch: 29, Loss: 0.43211886286735535\n",
      "Epoch: 30, Loss: 0.3142992854118347\n",
      "Epoch: 31, Loss: 0.09586348384618759\n",
      "Epoch: 32, Loss: 0.3054265081882477\n",
      "Epoch: 33, Loss: 0.3925929665565491\n",
      "Epoch: 34, Loss: 0.5098567008972168\n",
      "Epoch: 35, Loss: 0.17066515982151031\n",
      "Epoch: 36, Loss: 0.06733278185129166\n",
      "Epoch: 37, Loss: 0.10464206337928772\n",
      "Epoch: 38, Loss: 0.10216590017080307\n",
      "Epoch: 39, Loss: 0.20015281438827515\n",
      "Epoch: 40, Loss: 0.18279550969600677\n",
      "Epoch: 41, Loss: 0.2058127224445343\n",
      "Epoch: 42, Loss: 0.0851447805762291\n",
      "Epoch: 43, Loss: 0.04066472128033638\n",
      "Epoch: 44, Loss: 0.18294887244701385\n",
      "Epoch: 45, Loss: 0.12018723785877228\n",
      "Epoch: 46, Loss: 0.13952240347862244\n",
      "Epoch: 47, Loss: 0.13667632639408112\n",
      "Epoch: 48, Loss: 0.038324467837810516\n",
      "Epoch: 49, Loss: 0.03571638464927673\n",
      "Epoch: 50, Loss: 0.11071614176034927\n",
      "Epoch: 51, Loss: 0.047214098274707794\n",
      "Epoch: 52, Loss: 0.09214718639850616\n",
      "Epoch: 53, Loss: 0.04564928263425827\n",
      "Epoch: 54, Loss: 0.03111897222697735\n",
      "Epoch: 55, Loss: 0.10136643052101135\n",
      "Epoch: 56, Loss: 0.23410815000534058\n",
      "Epoch: 57, Loss: 0.03890453279018402\n",
      "Epoch: 58, Loss: 0.08278317004442215\n",
      "Epoch: 59, Loss: 0.03107680380344391\n",
      "Epoch: 60, Loss: 0.05283026397228241\n",
      "Epoch: 61, Loss: 0.03602549061179161\n",
      "Epoch: 62, Loss: 0.06704812496900558\n",
      "Epoch: 63, Loss: 0.03683799132704735\n",
      "Epoch: 64, Loss: 0.02318217232823372\n",
      "Epoch: 65, Loss: 0.1119614988565445\n",
      "Epoch: 66, Loss: 0.03684549033641815\n",
      "Epoch: 67, Loss: 0.03881346061825752\n",
      "Epoch: 68, Loss: 0.053446214646101\n",
      "Epoch: 69, Loss: 0.03299829363822937\n",
      "Epoch: 70, Loss: 0.06171145290136337\n",
      "Epoch: 71, Loss: 0.04477782920002937\n",
      "Epoch: 72, Loss: 0.03891510143876076\n",
      "Epoch: 73, Loss: 0.08221599459648132\n",
      "Epoch: 74, Loss: 0.02515423111617565\n",
      "Epoch: 75, Loss: 0.02503998950123787\n",
      "Epoch: 76, Loss: 0.022549139335751534\n",
      "Epoch: 77, Loss: 0.027331093326210976\n",
      "Epoch: 78, Loss: 0.017090272158384323\n",
      "Epoch: 79, Loss: 0.01729828678071499\n",
      "Epoch: 80, Loss: 0.022178448736667633\n",
      "Epoch: 81, Loss: 0.02490242011845112\n",
      "Epoch: 82, Loss: 0.021694254130125046\n",
      "Epoch: 83, Loss: 0.028809214010834694\n",
      "Epoch: 84, Loss: 0.01808708906173706\n",
      "Epoch: 85, Loss: 0.009562773630023003\n",
      "Epoch: 86, Loss: 0.0203753262758255\n",
      "Epoch: 87, Loss: 0.047453515231609344\n",
      "Epoch: 88, Loss: 0.03769576549530029\n",
      "Epoch: 89, Loss: 0.027207301929593086\n",
      "Epoch: 90, Loss: 0.0253346748650074\n",
      "Epoch: 91, Loss: 0.014890563674271107\n",
      "Epoch: 92, Loss: 0.011574425734579563\n",
      "Epoch: 93, Loss: 0.02416241355240345\n",
      "Epoch: 94, Loss: 0.01931392028927803\n",
      "Epoch: 95, Loss: 0.025257108733057976\n",
      "Epoch: 96, Loss: 0.022662289440631866\n",
      "Epoch: 97, Loss: 0.007868083193898201\n",
      "Epoch: 98, Loss: 0.012946229428052902\n",
      "Epoch: 99, Loss: 0.015038086101412773\n",
      "Epoch: 100, Loss: 0.013020386919379234\n"
     ]
    }
   ],
   "source": [
    "learning_rate = 1e-2\n",
    "optimizer = optim.SGD(model.parameters(), lr=learning_rate)\n",
    "\n",
    "n_epochs = 100\n",
    "\n",
    "for epoch in range(1, n_epochs+1):\n",
    "    for imgs, labels in train_loader:    # directly pick imgs and labels from DataLoader!\n",
    "        batch_size = imgs.shape[0]\n",
    "        outputs = model(imgs.reshape(batch_size, -1))\n",
    "        loss = loss_fn(outputs, labels)\n",
    "\n",
    "        optimizer.zero_grad()\n",
    "        loss.backward()\n",
    "        optimizer.step()\n",
    "    if epoch <= 3 or epoch % 10 == 0:\n",
    "        print(f'Epoch: {epoch}, Loss: {float(loss)}')"
   ]
  },
  {
   "cell_type": "code",
   "execution_count": 15,
   "metadata": {},
   "outputs": [
    {
     "name": "stdout",
     "output_type": "stream",
     "text": [
      "Validate accuracy: 81.35 %\n"
     ]
    }
   ],
   "source": [
    "val_loader = torch.utils.data.DataLoader(tr_cifar2_val, batch_size=64, shuffle=False)\n",
    "correct, total = 0, 0\n",
    "\n",
    "with torch.no_grad():\n",
    "    for imgs, labels in val_loader:\n",
    "        batch_size = imgs.shape[0]\n",
    "        outputs = model(imgs.reshape(batch_size, -1))\n",
    "        _, predicted = torch.max(outputs, dim=1)\n",
    "        total += labels.shape[0]\n",
    "        correct += int((predicted == labels).sum())\n",
    "\n",
    "print(f'Validate accuracy: {correct / total * 100} %')"
   ]
  },
  {
   "cell_type": "code",
   "execution_count": 26,
   "metadata": {},
   "outputs": [
    {
     "data": {
      "text/plain": [
       "(1574402, [1572864, 512, 1024, 2])"
      ]
     },
     "execution_count": 26,
     "metadata": {},
     "output_type": "execute_result"
    }
   ],
   "source": [
    "# Count how many parameters are in the model.\n",
    "numel_list = [p.numel() for p in model.parameters() if p.requires_grad == True]\n",
    "sum(numel_list), numel_list"
   ]
  }
 ],
 "metadata": {
  "kernelspec": {
   "display_name": "Python 3.9.12 ('disco-diffusion')",
   "language": "python",
   "name": "python3"
  },
  "language_info": {
   "codemirror_mode": {
    "name": "ipython",
    "version": 3
   },
   "file_extension": ".py",
   "mimetype": "text/x-python",
   "name": "python",
   "nbconvert_exporter": "python",
   "pygments_lexer": "ipython3",
   "version": "3.9.12"
  },
  "orig_nbformat": 4,
  "vscode": {
   "interpreter": {
    "hash": "2d154572db74bf447d8ef00b8088999b75aecc8ee0cff4dd3dcc88c51a55f698"
   }
  }
 },
 "nbformat": 4,
 "nbformat_minor": 2
}
