{
 "cells": [
  {
   "cell_type": "code",
   "execution_count": 1,
   "metadata": {},
   "outputs": [],
   "source": [
    "from torchvision import datasets, transforms\n",
    "# from matplotlib import pyplot as plt\n",
    "import torch\n",
    "import torch.nn as nn\n",
    "import torch.optim as optim\n",
    "import torch.nn.functional as F\n",
    "# %matplotlib inline"
   ]
  },
  {
   "cell_type": "code",
   "execution_count": 2,
   "metadata": {},
   "outputs": [],
   "source": [
    "# Prepare datasets\n",
    "data_path = '../Chapter 7/data-unversioned/'\n",
    "transformed_cifar10 = datasets.CIFAR10(\n",
    "    data_path, train=True, download=False,\n",
    "    transform=transforms.Compose([\n",
    "        transforms.ToTensor(),\n",
    "        transforms.Normalize(mean=(0.4914, 0.4822, 0.4465),\n",
    "                             std=(0.2470, 0.2435, 0.2616))\n",
    "    ]))\n",
    "transformed_cifar10_val = datasets.CIFAR10(\n",
    "    data_path, train=False, download=False,\n",
    "    transform=transforms.Compose([\n",
    "        transforms.ToTensor(),\n",
    "        transforms.Normalize(mean=(0.4914, 0.4822, 0.4465),\n",
    "                             std=(0.2470, 0.2435, 0.2616))\n",
    "    ]))\n",
    "label_map = {0: 0, 2: 1}  # dictionary\n",
    "class_names = ['airplane', 'bird']\n",
    "tr_cifar2 = [(img, label_map[label])\n",
    "             for img, label in transformed_cifar10 if label in [0, 2]]\n",
    "tr_cifar2_val = [(img, label_map[label])\n",
    "                 for img, label in transformed_cifar10_val if label in [0, 2]]"
   ]
  },
  {
   "cell_type": "code",
   "execution_count": 3,
   "metadata": {},
   "outputs": [
    {
     "name": "stdout",
     "output_type": "stream",
     "text": [
      "Training on device: cuda\n"
     ]
    }
   ],
   "source": [
    "device = (torch.device('cuda') if torch.cuda.is_available() else torch.device('cpu'))\n",
    "print(f'Training on device: {device}')"
   ]
  },
  {
   "cell_type": "markdown",
   "metadata": {},
   "source": [
    "# 测试: 卷积, 池化"
   ]
  },
  {
   "cell_type": "code",
   "execution_count": 7,
   "metadata": {},
   "outputs": [
    {
     "data": {
      "text/plain": [
       "(torch.Size([1, 3, 32, 32]), torch.Size([1, 16, 32, 32]))"
      ]
     },
     "execution_count": 7,
     "metadata": {},
     "output_type": "execute_result"
    }
   ],
   "source": [
    "conv = nn.Conv2d(   # accepts a (batches, channels, height, width) shape tensor\n",
    "    3,              # input features (in this case, RGB channels)\n",
    "    16,             # output features (hidden layer)\n",
    "    kernel_size=3,  # conv core size (3x3, gotta be an odd number)\n",
    "    padding=1       # keeps image size, processes edges\n",
    ")\n",
    "img, _ = tr_cifar2[0]\n",
    "with torch.no_grad():\n",
    "    conv.bias.zero_()\n",
    "    conv.weight.fill_(1.0/9.0)\n",
    "output = conv(img.unsqueeze(0))\n",
    "img.unsqueeze(0).shape, output.shape"
   ]
  },
  {
   "cell_type": "code",
   "execution_count": 6,
   "metadata": {},
   "outputs": [
    {
     "data": {
      "text/plain": [
       "(torch.Size([1, 16, 32, 32]), torch.Size([1, 16, 16, 16]))"
      ]
     },
     "execution_count": 6,
     "metadata": {},
     "output_type": "execute_result"
    }
   ],
   "source": [
    "pool = nn.MaxPool2d(2)  # (devider size 2x2)\n",
    "pool_output = pool(output)\n",
    "output.shape, pool_output.shape"
   ]
  },
  {
   "cell_type": "markdown",
   "metadata": {},
   "source": [
    "# 训练我们的 convnet"
   ]
  },
  {
   "cell_type": "markdown",
   "metadata": {},
   "source": [
    "#### 构建自己的 nn.Module 子类\n",
    "\n",
    "(当你需要使用预设模块没有的操作时)"
   ]
  },
  {
   "cell_type": "markdown",
   "metadata": {},
   "source": [
    "```\n",
    "nn.MaxPool2d 得到矩阵, 无法直接进行 nn.Linear, 需要一步reshape. 最新版本的PyTorch提供了 nn.Flatten, 但下面我们假设正在使用老版本...\n",
    "```"
   ]
  },
  {
   "cell_type": "code",
   "execution_count": 4,
   "metadata": {},
   "outputs": [],
   "source": [
    "class MyNet(nn.Module):\n",
    "    def __init__(self):\n",
    "        super().__init__()\n",
    "        self.conv1 = nn.Conv2d(3, 16, kernel_size=3, padding=1, dtype=(torch.half if device==torch.device('cuda') else torch.float))\n",
    "        self.conv2 = nn.Conv2d(16, 8, kernel_size=3, padding=1, dtype=(torch.half if device==torch.device('cuda') else torch.float))\n",
    "        self.lin1 = nn.Linear(8*8*8, 32, dtype=(torch.half if device==torch.device('cuda') else torch.float))\n",
    "        self.lin2 = nn.Linear(32, 2, dtype=(torch.half if device==torch.device('cuda') else torch.float))\n",
    "\n",
    "    def forward(self, input):\n",
    "        out = F.max_pool2d(torch.tanh(self.conv1(input)), 2)\n",
    "        out = F.max_pool2d(torch.tanh(self.conv2(out)), 2)\n",
    "        out = out.reshape(-1, 8*8*8)\n",
    "        out = torch.tanh(self.lin1(out))\n",
    "        out = self.lin2(out)\n",
    "        return out\n",
    "model = MyNet()"
   ]
  },
  {
   "cell_type": "markdown",
   "metadata": {},
   "source": [
    "#### 编写训练循环, 并在 GPU 上训练"
   ]
  },
  {
   "cell_type": "code",
   "execution_count": 5,
   "metadata": {},
   "outputs": [],
   "source": [
    "import datetime\n",
    "\n",
    "def training_loop(n_epochs, optimizer, model, loss_fn, train_loader):\n",
    "    \n",
    "    for epoch in range(1, n_epochs+1):\n",
    "        loss_train = 0.0\n",
    "        \n",
    "        for imgs, labels in train_loader:\n",
    "            imgs = imgs.to(device=device, dtype=(torch.half if device==torch.device('cuda') else torch.float))\n",
    "            labels = labels.to(device=device)\n",
    "\n",
    "            outputs = model(imgs)\n",
    "            loss = loss_fn(outputs, labels)\n",
    "\n",
    "            optimizer.zero_grad()\n",
    "            loss.backward()\n",
    "            optimizer.step()\n",
    "\n",
    "            loss_train += loss.item()\n",
    "        if epoch <= 3 or epoch % 10 == 0:\n",
    "            print('{} Epoch {}, Training loss {}'.format(datetime.datetime.now(), epoch, loss_train/len(train_loader)))"
   ]
  },
  {
   "cell_type": "code",
   "execution_count": 6,
   "metadata": {},
   "outputs": [
    {
     "name": "stdout",
     "output_type": "stream",
     "text": [
      "2022-08-11 13:40:52.178821 Epoch 1, Training loss 0.580199417794586\n",
      "2022-08-11 13:40:52.493490 Epoch 2, Training loss 0.4934875099522293\n",
      "2022-08-11 13:40:52.813486 Epoch 3, Training loss 0.4729688122014331\n",
      "2022-08-11 13:40:54.979368 Epoch 10, Training loss 0.3388360867834395\n",
      "2022-08-11 13:40:58.081469 Epoch 20, Training loss 0.2944872424860669\n",
      "2022-08-11 13:41:01.167114 Epoch 30, Training loss 0.26366954244625795\n",
      "2022-08-11 13:41:04.263241 Epoch 40, Training loss 0.24216378570362262\n",
      "2022-08-11 13:41:07.355047 Epoch 50, Training loss 0.22185190771795382\n",
      "2022-08-11 13:41:10.364079 Epoch 60, Training loss 0.20581404570561307\n",
      "2022-08-11 13:41:13.290759 Epoch 70, Training loss 0.1924928312848328\n",
      "2022-08-11 13:41:16.163686 Epoch 80, Training loss 0.18051866665007962\n",
      "2022-08-11 13:41:19.053011 Epoch 90, Training loss 0.16270592561952626\n",
      "2022-08-11 13:41:21.866783 Epoch 100, Training loss 0.1502137396745621\n",
      "2022-08-11 13:41:24.697841 Epoch 110, Training loss 0.13771591672472133\n",
      "2022-08-11 13:41:27.532133 Epoch 120, Training loss 0.1269171647964769\n",
      "2022-08-11 13:41:30.379632 Epoch 130, Training loss 0.11378605350567277\n",
      "2022-08-11 13:41:33.232501 Epoch 140, Training loss 0.10289467975592158\n",
      "2022-08-11 13:41:36.017837 Epoch 150, Training loss 0.08975627923467357\n",
      "2022-08-11 13:41:38.770903 Epoch 160, Training loss 0.08196729915157246\n",
      "2022-08-11 13:41:41.814449 Epoch 170, Training loss 0.0729460503645004\n",
      "2022-08-11 13:41:44.937300 Epoch 180, Training loss 0.06458540023512142\n",
      "2022-08-11 13:41:48.070804 Epoch 190, Training loss 0.05812762801054936\n",
      "2022-08-11 13:41:51.184935 Epoch 200, Training loss 0.05209797658738057\n"
     ]
    }
   ],
   "source": [
    "train_loader = torch.utils.data.DataLoader(tr_cifar2, batch_size=64, shuffle=True)\n",
    "\n",
    "model = MyNet().to(device=device)       # model should also be transported to GPU along with parameters!\n",
    "\n",
    "optimizer = optim.SGD(model.parameters(), lr=1e-2)\n",
    "loss_fn = nn.CrossEntropyLoss()\n",
    "\n",
    "training_loop(\n",
    "    n_epochs = 200,\n",
    "    optimizer = optimizer,\n",
    "    model = model,\n",
    "    loss_fn = loss_fn,\n",
    "    train_loader = train_loader\n",
    ")"
   ]
  },
  {
   "cell_type": "markdown",
   "metadata": {},
   "source": [
    "#### 测量精度"
   ]
  },
  {
   "cell_type": "code",
   "execution_count": 7,
   "metadata": {},
   "outputs": [
    {
     "name": "stdout",
     "output_type": "stream",
     "text": [
      "Accuracy train: 0.99\n",
      "Accuracy val: 0.89\n"
     ]
    }
   ],
   "source": [
    "train_loader = torch.utils.data.DataLoader(tr_cifar2, batch_size=64, shuffle=False)\n",
    "val_loader = torch.utils.data.DataLoader(tr_cifar2_val, batch_size=64, shuffle=False)\n",
    "\n",
    "def validate(model, train_loader, val_loader):\n",
    "    for name, loader in [('train', train_loader), ('val', val_loader)]:\n",
    "        correct, total = 0, 0\n",
    "        with torch.no_grad():\n",
    "            for imgs, labels in loader:\n",
    "                imgs = imgs.to(device=device, dtype=(torch.half if device==torch.device('cuda') else torch.float))\n",
    "                labels = labels.to(device=device)\n",
    "                \n",
    "                outputs = model(imgs)\n",
    "                _, predicted = torch.max(outputs, dim=1)\n",
    "                total += labels.shape[0]\n",
    "                correct += int((predicted == labels).sum())\n",
    "        print(f'Accuracy {name}: {(correct/total):.2f}')\n",
    "\n",
    "validate(model, train_loader, val_loader)"
   ]
  },
  {
   "cell_type": "markdown",
   "metadata": {},
   "source": [
    "# 保存/加载模型参数"
   ]
  },
  {
   "cell_type": "code",
   "execution_count": 9,
   "metadata": {},
   "outputs": [],
   "source": [
    "# SAVE\n",
    "torch.save(model.state_dict(), './pretrained/birds_airplanes.pt')"
   ]
  },
  {
   "cell_type": "code",
   "execution_count": null,
   "metadata": {},
   "outputs": [],
   "source": [
    "# LOAD\n",
    "# loaded_model = MyNet()\n",
    "# loaded_model.load_state_dict(torch.load('./pretrained/birds_airplanes.pt'))"
   ]
  }
 ],
 "metadata": {
  "kernelspec": {
   "display_name": "Python 3.9.12 ('disco-diffusion')",
   "language": "python",
   "name": "python3"
  },
  "language_info": {
   "codemirror_mode": {
    "name": "ipython",
    "version": 3
   },
   "file_extension": ".py",
   "mimetype": "text/x-python",
   "name": "python",
   "nbconvert_exporter": "python",
   "pygments_lexer": "ipython3",
   "version": "3.9.12"
  },
  "orig_nbformat": 4,
  "vscode": {
   "interpreter": {
    "hash": "2d154572db74bf447d8ef00b8088999b75aecc8ee0cff4dd3dcc88c51a55f698"
   }
  }
 },
 "nbformat": 4,
 "nbformat_minor": 2
}
